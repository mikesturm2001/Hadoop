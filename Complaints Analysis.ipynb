{
 "cells": [
  {
   "cell_type": "markdown",
   "metadata": {},
   "source": [
    "# Michael Sturm BUAN 6346.502 Final Project\n",
    "\n",
    "## The notebook will accomplish the following steps:\n",
    "- Introduce problem and description\n",
    "- Read data-sets \n",
    "- Exploratory data analysis of data sets\n",
    "- Pre Processing of data\n",
    "- Data analysis\n",
    "- Visulation"
   ]
  },
  {
   "cell_type": "code",
   "execution_count": 1,
   "metadata": {},
   "outputs": [
    {
     "name": "stdout",
     "output_type": "stream",
     "text": [
      "Starting Spark application\n"
     ]
    },
    {
     "data": {
      "text/html": [
       "<table>\n",
       "<tr><th>ID</th><th>YARN Application ID</th><th>Kind</th><th>State</th><th>Spark UI</th><th>Driver log</th><th>Current session?</th></tr><tr><td>8</td><td>application_1557087912175_0012</td><td>pyspark3</td><td>idle</td><td><a target=\"_blank\" href=\"http://ip-172-31-45-160.us-east-2.compute.internal:20888/proxy/application_1557087912175_0012/\">Link</a></td><td><a target=\"_blank\" href=\"http://ip-172-31-35-205.us-east-2.compute.internal:8042/node/containerlogs/container_1557087912175_0012_01_000001/livy\">Link</a></td><td>✔</td></tr></table>"
      ],
      "text/plain": [
       "<IPython.core.display.HTML object>"
      ]
     },
     "metadata": {},
     "output_type": "display_data"
    },
    {
     "name": "stdout",
     "output_type": "stream",
     "text": [
      "SparkSession available as 'spark'.\n"
     ]
    }
   ],
   "source": [
    "# Spark session - user PySpark3 kernel"
   ]
  },
  {
   "cell_type": "code",
   "execution_count": 2,
   "metadata": {},
   "outputs": [
    {
     "name": "stdout",
     "output_type": "stream",
     "text": [
      "\"\\nimport pandas as pd\\n#from IPython.core.display import display, HTML\\n#display(HTML('<h1>Hello, world!</h1>'))\\n\""
     ]
    }
   ],
   "source": [
    "from pyspark.sql.functions import *\n",
    "from pyspark.sql.types import *\n",
    "from pyspark.sql import *\n",
    "\n",
    "\"\"\"\n",
    "import pandas as pd\n",
    "#from IPython.core.display import display, HTML\n",
    "#display(HTML('<h1>Hello, world!</h1>'))\n",
    "\"\"\""
   ]
  },
  {
   "cell_type": "code",
   "execution_count": 3,
   "metadata": {},
   "outputs": [],
   "source": [
    "#The following code was run to load all customer complaints and store them as a Parquet file.\n",
    "\n",
    "#RUN THIS ONCE TO LOAD COMPLAINS FROM HIVE INTO DF AND SAVE AS PARQUET"
   ]
  },
  {
   "cell_type": "code",
   "execution_count": 4,
   "metadata": {},
   "outputs": [],
   "source": [
    "#Step 1\n",
    "\n",
    "# On Windows) Download using browser into the data folder. Rename file to cust_complains_all_through_3_31.csv\n"
   ]
  },
  {
   "cell_type": "code",
   "execution_count": 5,
   "metadata": {},
   "outputs": [],
   "source": [
    "#Step 2 run the following Python to clean the data\n",
    "\n",
    "#import csv\n",
    "\n",
    "## Replace file names as needed\n",
    "#input_file_name = \"cust_complains_all_through_3_31.csv\"\n",
    "#output_file_name = \"cust_complains_all_through_3_31_tab.csv\"\n",
    "\n",
    "#def remove_n_r(column):\n",
    "#    column = column.replace('\\n','')\n",
    "#    column = column.replace('\\r','')\n",
    "#    column = column.replace('\\t','')\n",
    "#    return column\n",
    "    \n",
    "#in_txt = csv.reader(open(input_file_name), delimiter = ',')\n",
    "#out_csv = open(output_file_name, 'w', newline='\\n')\n",
    "#csv_writer = csv.writer(out_csv, delimiter = '\\t', quotechar='|', quoting=csv.QUOTE_MINIMAL)\n",
    "#out_csv.writerows(in_txt)\n",
    "#line_count = 0\n",
    "#for row in in_txt:\n",
    "#    if line_count == 0:\n",
    "#        print('Column names are:', row)\n",
    "#        line_count += 1\n",
    "#    else:\n",
    "#        new_row = []\n",
    "#        for col in row:\n",
    "#            new_row.append(remove_n_r(col))\n",
    "#        csv_writer.writerow(new_row)\n",
    "#        line_count += 1\n",
    "\n",
    "#out_csv.close()\n",
    "#print('Processed',line_count,' lines.')"
   ]
  },
  {
   "cell_type": "code",
   "execution_count": 6,
   "metadata": {},
   "outputs": [],
   "source": [
    "#Step 3. Using MobaXterm log into the EMR cluster, enter Hive and run the following commands.\n",
    "#Once the commands are run the data should be accessible from this notebook via Spark HIVE support.\n",
    "\n",
    "#DROP TABLE cust_complains.cust_complaints_all_csv_raw;\n",
    "#DROP TABLE cust_complains.cust_complaints_all;\n",
    "\n",
    "#CREATE TABLE cust_complains.cust_complaints_all_csv_raw\n",
    "#(date_received      string,\n",
    "#product             string,\n",
    "#sub_product         string,\n",
    "#issue               string,\n",
    "#sub_issue           string,\n",
    "#consumer_complaint_narrative string,\n",
    "#company_public_response string,\n",
    "#company             string,\n",
    "#state               string,\n",
    "#zip_code            string,\n",
    "#tags                string,\n",
    "#consumer_consent_provided string,\n",
    "#submitted_via       string,\n",
    "#date_sent_to_company string,\n",
    "#company_response    string,\n",
    "#timely_response     string,\n",
    "#consumer_disputed   string,\n",
    "#complaint_id        string)\n",
    "#ROW FORMAT DELIMITED \n",
    "#FIELDS TERMINATED BY '\\t';\n",
    "\n",
    "\n",
    "#CREATE TABLE cust_complains.cust_complaints_all\n",
    "#(date_received      string,\n",
    "#product             string,\n",
    "#sub_product         string,\n",
    "#issue               string,\n",
    "#sub_issue           string,\n",
    "#consumer_complaint_narrative string,\n",
    "#company_public_response string,\n",
    "#company             string,\n",
    "#state               string,\n",
    "#zip_code            string,\n",
    "#tags                string,\n",
    "#consumer_consent_provided string,\n",
    "#submitted_via       string,\n",
    "#date_sent_to_company string,\n",
    "#company_response    string,\n",
    "#timely_response     string,\n",
    "#consumer_disputed   string,\n",
    "#complaint_id        string)\n",
    "#ROW FORMAT DELIMITED \n",
    "#FIELDS TERMINATED BY ','\n",
    "#STORED AS PARQUET \n",
    "#TBLPROPERTIES (\"parquet.compression\"=\"SNAPPY\");\n",
    "\n",
    "\n",
    "#LOAD DATA LOCAL inpath '/mnt/data/cust_complains_all_through_3_31_tab.csv' \n",
    "#INTO TABLE cust_complains.cust_complaints_all_csv_raw;\n",
    "\n",
    "\n",
    "#INSERT INTO cust_complains.cust_complaints_all\n",
    "#SELECT * FROM cust_complains.cust_complaints_all_csv_raw;"
   ]
  },
  {
   "cell_type": "code",
   "execution_count": 7,
   "metadata": {},
   "outputs": [
    {
     "name": "stderr",
     "output_type": "stream",
     "text": [
      "'org.apache.hadoop.hive.metastore.api.AlreadyExistsException: Database cust_complains already exists;'\n",
      "Traceback (most recent call last):\n",
      "  File \"/usr/lib/spark/python/lib/pyspark.zip/pyspark/sql/session.py\", line 767, in sql\n",
      "    return DataFrame(self._jsparkSession.sql(sqlQuery), self._wrapped)\n",
      "  File \"/usr/lib/spark/python/lib/py4j-0.10.7-src.zip/py4j/java_gateway.py\", line 1257, in __call__\n",
      "    answer, self.gateway_client, self.target_id, self.name)\n",
      "  File \"/usr/lib/spark/python/lib/pyspark.zip/pyspark/sql/utils.py\", line 69, in deco\n",
      "    raise AnalysisException(s.split(': ', 1)[1], stackTrace)\n",
      "pyspark.sql.utils.AnalysisException: 'org.apache.hadoop.hive.metastore.api.AlreadyExistsException: Database cust_complains already exists;'\n",
      "\n"
     ]
    }
   ],
   "source": [
    "spark.sql(\"create database cust_complains\")"
   ]
  },
  {
   "cell_type": "code",
   "execution_count": 8,
   "metadata": {},
   "outputs": [
    {
     "name": "stderr",
     "output_type": "stream",
     "text": [
      "\"Table or view not found: `cust_complains`.`cust_complaints_all`;;\\n'UnresolvedRelation `cust_complains`.`cust_complaints_all`\\n\"\n",
      "Traceback (most recent call last):\n",
      "  File \"/usr/lib/spark/python/lib/pyspark.zip/pyspark/sql/session.py\", line 780, in table\n",
      "    return DataFrame(self._jsparkSession.table(tableName), self._wrapped)\n",
      "  File \"/usr/lib/spark/python/lib/py4j-0.10.7-src.zip/py4j/java_gateway.py\", line 1257, in __call__\n",
      "    answer, self.gateway_client, self.target_id, self.name)\n",
      "  File \"/usr/lib/spark/python/lib/pyspark.zip/pyspark/sql/utils.py\", line 69, in deco\n",
      "    raise AnalysisException(s.split(': ', 1)[1], stackTrace)\n",
      "pyspark.sql.utils.AnalysisException: \"Table or view not found: `cust_complains`.`cust_complaints_all`;;\\n'UnresolvedRelation `cust_complains`.`cust_complaints_all`\\n\"\n",
      "\n"
     ]
    }
   ],
   "source": [
    "#these commands will only work if Hive table is populated.\n",
    "\n",
    "spark.sql(\"use cust_complains\")\n",
    "complainsDF = spark.table(\"cust_complains.cust_complaints_all\")\n",
    "\n",
    "#save dataframe as parquet file\n",
    "\n",
    "complainsDF.write.parquet(\"s3://aws-logs-750827748885-us-east-2/tools/cust_complaints.pq\")"
   ]
  },
  {
   "cell_type": "markdown",
   "metadata": {},
   "source": [
    "## Read all data from S3 storage"
   ]
  },
  {
   "cell_type": "code",
   "execution_count": 9,
   "metadata": {},
   "outputs": [],
   "source": [
    "###########################################################################################################################\n",
    "\n",
    "# DATA SOURCE NUMBER: 1\n",
    "\n",
    "# CUSTOMER COMPLAINT DATA\n",
    "\n",
    "#https://www.consumerfinance.gov/data-research/consumer-complaints/\n",
    "\n",
    "###########################################################################################################################"
   ]
  },
  {
   "cell_type": "code",
   "execution_count": 10,
   "metadata": {},
   "outputs": [
    {
     "name": "stdout",
     "output_type": "stream",
     "text": [
      "Number of Comnplaints: 1273782\n",
      "root\n",
      " |-- date_received: string (nullable = true)\n",
      " |-- product: string (nullable = true)\n",
      " |-- sub_product: string (nullable = true)\n",
      " |-- issue: string (nullable = true)\n",
      " |-- sub_issue: string (nullable = true)\n",
      " |-- consumer_complaint_narrative: string (nullable = true)\n",
      " |-- company_public_response: string (nullable = true)\n",
      " |-- company: string (nullable = true)\n",
      " |-- state: string (nullable = true)\n",
      " |-- zip_code: string (nullable = true)\n",
      " |-- tags: string (nullable = true)\n",
      " |-- consumer_consent_provided: string (nullable = true)\n",
      " |-- submitted_via: string (nullable = true)\n",
      " |-- date_sent_to_company: string (nullable = true)\n",
      " |-- company_response: string (nullable = true)\n",
      " |-- timely_response: string (nullable = true)\n",
      " |-- consumer_disputed: string (nullable = true)\n",
      " |-- complaint_id: string (nullable = true)\n",
      "\n",
      "None"
     ]
    }
   ],
   "source": [
    "complaintsDF = spark.read.parquet(\"s3://aws-logs-750827748885-us-east-2/tools/cust_complaints.pq\")\n",
    "complaintsDF.cache()\n",
    "print(\"Number of Comnplaints: \" + str(complaintsDF.count()))\n",
    "print(complaintsDF.printSchema())"
   ]
  },
  {
   "cell_type": "code",
   "execution_count": 11,
   "metadata": {},
   "outputs": [],
   "source": [
    "#Lets take a look at some sample rows"
   ]
  },
  {
   "cell_type": "code",
   "execution_count": 12,
   "metadata": {},
   "outputs": [
    {
     "name": "stdout",
     "output_type": "stream",
     "text": [
      "+-------------+-----------+-----------+--------+---------+----------------------------+-----------------------+--------------------+-----+--------+--------------+-------------------------+-------------+--------------------+--------------------+---------------+-----------------+------------+\n",
      "|date_received|    product|sub_product|   issue|sub_issue|consumer_complaint_narrative|company_public_response|             company|state|zip_code|          tags|consumer_consent_provided|submitted_via|date_sent_to_company|    company_response|timely_response|consumer_disputed|complaint_id|\n",
      "+-------------+-----------+-----------+--------+---------+----------------------------+-----------------------+--------------------+-----+--------+--------------+-------------------------+-------------+--------------------+--------------------+---------------+-----------------+------------+\n",
      "|   05/13/2016|Credit card|           |Late fee|         |                            |                       |CAPITAL ONE FINAN...|   MD|   21206|Older American|                      N/A|  Postal mail|          05/16/2016|Closed with expla...|            Yes|               No|     1925763|\n",
      "+-------------+-----------+-----------+--------+---------+----------------------------+-----------------------+--------------------+-----+--------+--------------+-------------------------+-------------+--------------------+--------------------+---------------+-----------------+------------+\n",
      "only showing top 1 row"
     ]
    }
   ],
   "source": [
    "complaintsDF.show(1)"
   ]
  },
  {
   "cell_type": "code",
   "execution_count": 13,
   "metadata": {},
   "outputs": [],
   "source": [
    "#Looking at the schema state, zip_code, product, subproduct, company, and issue should be the most important fields."
   ]
  },
  {
   "cell_type": "code",
   "execution_count": 14,
   "metadata": {},
   "outputs": [],
   "source": [
    "#Reduce complaints dataframe to only needed fields to increase performance\n",
    "columnlist = [\"product\",\"sub_product\",\"issue\",\"company\",\"zip_code\",\"state\"]\n",
    "\n",
    "complaintsTrimmedDf = complaintsDF.select(columnlist)"
   ]
  },
  {
   "cell_type": "code",
   "execution_count": 15,
   "metadata": {},
   "outputs": [
    {
     "name": "stdout",
     "output_type": "stream",
     "text": [
      "root\n",
      " |-- product: string (nullable = true)\n",
      " |-- sub_product: string (nullable = true)\n",
      " |-- issue: string (nullable = true)\n",
      " |-- company: string (nullable = true)\n",
      " |-- zip_code: string (nullable = true)\n",
      " |-- state: string (nullable = true)"
     ]
    }
   ],
   "source": [
    "complaintsTrimmedDf.printSchema()"
   ]
  },
  {
   "cell_type": "code",
   "execution_count": 16,
   "metadata": {},
   "outputs": [
    {
     "name": "stdout",
     "output_type": "stream",
     "text": [
      "+-----+------+\n",
      "|state| count|\n",
      "+-----+------+\n",
      "|   CA|175021|\n",
      "|   FL|125356|\n",
      "|   TX|106773|\n",
      "|   NY| 85531|\n",
      "|   GA| 66578|\n",
      "|   IL| 49266|\n",
      "|   NJ| 47543|\n",
      "|   PA| 43862|\n",
      "|   NC| 39278|\n",
      "|   OH| 38208|\n",
      "+-----+------+\n",
      "only showing top 10 rows"
     ]
    }
   ],
   "source": [
    "# States with the most complaints\n",
    "\n",
    "complaintsTrimmedDf\\\n",
    ".groupBy(\"state\")\\\n",
    ".count()\\\n",
    ".sort(col(\"count\").desc()).show(10)"
   ]
  },
  {
   "cell_type": "code",
   "execution_count": 17,
   "metadata": {},
   "outputs": [
    {
     "name": "stdout",
     "output_type": "stream",
     "text": [
      "+--------------------+-----+\n",
      "|               state|count|\n",
      "+--------------------+-----+\n",
      "|                  PW|   13|\n",
      "|                  AA|   25|\n",
      "|                  AS|   27|\n",
      "|                  MH|   31|\n",
      "|UNITED STATES MIN...|   31|\n",
      "|                  MP|   34|\n",
      "|                  FM|  115|\n",
      "|                  GU|  187|\n",
      "|                  VI|  230|\n",
      "|                  AP|  351|\n",
      "+--------------------+-----+\n",
      "only showing top 10 rows"
     ]
    }
   ],
   "source": [
    "#States with the least complaints\n",
    "\n",
    "complaintsTrimmedDf\\\n",
    ".groupBy(\"state\")\\\n",
    ".count()\\\n",
    ".sort(col(\"count\").asc()).show(10)"
   ]
  },
  {
   "cell_type": "code",
   "execution_count": 18,
   "metadata": {},
   "outputs": [],
   "source": [
    "#Solving issues with Zip Code\n",
    "#759XX"
   ]
  },
  {
   "cell_type": "code",
   "execution_count": 19,
   "metadata": {},
   "outputs": [],
   "source": [
    "complaintsTrimmedDf.createOrReplaceTempView(\"complaints_trimmed\")"
   ]
  },
  {
   "cell_type": "code",
   "execution_count": 20,
   "metadata": {},
   "outputs": [],
   "source": [
    "#Using a Spark SQL example here it looks like we have 467462 masked zip codes"
   ]
  },
  {
   "cell_type": "code",
   "execution_count": 21,
   "metadata": {},
   "outputs": [
    {
     "name": "stdout",
     "output_type": "stream",
     "text": [
      "+---------------+\n",
      "|count(zip_code)|\n",
      "+---------------+\n",
      "|         467462|\n",
      "+---------------+"
     ]
    }
   ],
   "source": [
    "spark.sql(\"SELECT count(zip_code) FROM complaints_trimmed where zip_code LIKE '___XX'\").show()"
   ]
  },
  {
   "cell_type": "code",
   "execution_count": 22,
   "metadata": {},
   "outputs": [],
   "source": [
    "#Total number of Zip Codes"
   ]
  },
  {
   "cell_type": "code",
   "execution_count": 23,
   "metadata": {},
   "outputs": [
    {
     "name": "stdout",
     "output_type": "stream",
     "text": [
      "1273782"
     ]
    }
   ],
   "source": [
    "complaintsTrimmedDf.count()"
   ]
  },
  {
   "cell_type": "code",
   "execution_count": 24,
   "metadata": {},
   "outputs": [],
   "source": [
    "#Using Spark dataframe API we can see how many zipcodes have just one X. It looks like that is 0."
   ]
  },
  {
   "cell_type": "code",
   "execution_count": 25,
   "metadata": {},
   "outputs": [
    {
     "name": "stdout",
     "output_type": "stream",
     "text": [
      "467462\n",
      "0"
     ]
    }
   ],
   "source": [
    "print(complaintsTrimmedDf.where(instr(complaintsTrimmedDf.zip_code, \"XX\") > 0).count())\n",
    "print(complaintsTrimmedDf.where(instr(complaintsTrimmedDf.zip_code, \"X\") > 0)\\\n",
    "      .where(instr(complaintsTrimmedDf.zip_code, \"XX\") == 0).count())"
   ]
  },
  {
   "cell_type": "code",
   "execution_count": 26,
   "metadata": {},
   "outputs": [],
   "source": [
    "#Creating a dataframe of only valid zipcodes."
   ]
  },
  {
   "cell_type": "code",
   "execution_count": 27,
   "metadata": {},
   "outputs": [],
   "source": [
    "complaintsTrimmedValidZipDf = complaintsTrimmedDf.where(instr(complaintsTrimmedDf.zip_code, \"XX\") == 0)"
   ]
  },
  {
   "cell_type": "code",
   "execution_count": 28,
   "metadata": {},
   "outputs": [
    {
     "name": "stdout",
     "output_type": "stream",
     "text": [
      "806320"
     ]
    }
   ],
   "source": [
    "complaintsTrimmedValidZipDf.count()"
   ]
  },
  {
   "cell_type": "code",
   "execution_count": 29,
   "metadata": {},
   "outputs": [],
   "source": [
    "#Double checking my values here."
   ]
  },
  {
   "cell_type": "code",
   "execution_count": 30,
   "metadata": {},
   "outputs": [
    {
     "name": "stdout",
     "output_type": "stream",
     "text": [
      "806320"
     ]
    }
   ],
   "source": [
    "print(complaintsTrimmedDf.count() - complaintsTrimmedDf.where(instr(complaintsTrimmedDf.zip_code, \"XX\") > 0).count())"
   ]
  },
  {
   "cell_type": "code",
   "execution_count": 31,
   "metadata": {},
   "outputs": [],
   "source": [
    "###########################################################################################################################\n",
    "\n",
    "#DATA SOURCE NUMBER: 2\n",
    "\n",
    "#DEMOGRAPHIC DATA\n",
    "\n",
    "#Lets take a look at the county demographic data now.\n",
    "\n",
    "#https://www.kaggle.com/muonneutrino/us-census-demographic-data#acs2017_county_data.csv\n",
    "\n",
    "###########################################################################################################################"
   ]
  },
  {
   "cell_type": "code",
   "execution_count": 32,
   "metadata": {},
   "outputs": [
    {
     "name": "stdout",
     "output_type": "stream",
     "text": [
      "+--------+-------+----------------+--------+-----+------+--------+-----+-----+------+-----+-------+----------------+------+---------+------------+---------------+-------+------------+------------+-------+------+------------+----------+-----+-------+-------+----+-----------+----------+-----------+--------+-----------+----------+------------+----------+------------+\n",
      "|CountyId|  State|          County|TotalPop|  Men| Women|Hispanic|White|Black|Native|Asian|Pacific|VotingAgeCitizen|Income|IncomeErr|IncomePerCap|IncomePerCapErr|Poverty|ChildPoverty|Professional|Service|Office|Construction|Production|Drive|Carpool|Transit|Walk|OtherTransp|WorkAtHome|MeanCommute|Employed|PrivateWork|PublicWork|SelfEmployed|FamilyWork|Unemployment|\n",
      "+--------+-------+----------------+--------+-----+------+--------+-----+-----+------+-----+-------+----------------+------+---------+------------+---------------+-------+------------+------------+-------+------+------------+----------+-----+-------+-------+----+-----------+----------+-----------+--------+-----------+----------+------------+----------+------------+\n",
      "|    1001|Alabama|  Autauga County|   55036|26899| 28137|     2.7| 75.4| 18.9|   0.3|  0.9|    0.0|           41016| 55317|     2838|       27824|           2024|   13.7|        20.1|        35.3|   18.0|  23.2|         8.1|      15.4| 86.0|    9.6|    0.1| 0.6|        1.3|       2.5|       25.8|   24112|       74.1|      20.2|         5.6|       0.1|         5.2|\n",
      "|    1003|Alabama|  Baldwin County|  203360|99527|103833|     4.4| 83.1|  9.5|   0.8|  0.7|    0.0|          155376| 52562|     1348|       29364|            735|   11.8|        16.1|        35.7|   18.2|  25.6|         9.7|      10.8| 84.7|    7.6|    0.1| 0.8|        1.1|       5.6|       27.0|   89527|       80.7|      12.9|         6.3|       0.1|         5.5|\n",
      "|    1005|Alabama|  Barbour County|   26201|13976| 12225|     4.2| 45.7| 47.8|   0.2|  0.6|    0.0|           20269| 33368|     2551|       17561|            798|   27.2|        44.9|        25.0|   16.8|  22.6|        11.5|      24.1| 83.4|   11.1|    0.3| 2.2|        1.7|       1.3|       23.4|    8878|       74.1|      19.1|         6.5|       0.3|        12.4|\n",
      "|    1007|Alabama|     Bibb County|   22580|12251| 10329|     2.4| 74.6| 22.0|   0.4|  0.0|    0.0|           17662| 43404|     3431|       20911|           1889|   15.2|        26.6|        24.4|   17.6|  19.7|        15.9|      22.4| 86.4|    9.5|    0.7| 0.3|        1.7|       1.5|       30.0|    8171|       76.0|      17.4|         6.3|       0.3|         8.2|\n",
      "|    1009|Alabama|   Blount County|   57667|28490| 29177|     9.0| 87.4|  1.5|   0.3|  0.1|    0.0|           42513| 47412|     2630|       22021|            850|   15.6|        25.4|        28.5|   12.9|  23.3|        15.8|      19.5| 86.8|   10.2|    0.1| 0.4|        0.4|       2.1|       35.0|   21380|       83.9|      11.9|         4.0|       0.1|         4.9|\n",
      "|    1011|Alabama|  Bullock County|   10478| 5616|  4862|     0.3| 21.6| 75.6|   1.0|  0.7|    0.0|            8212| 29655|     5376|       20856|           2355|   28.5|        50.4|        19.7|   17.1|  18.6|        14.0|      30.6| 73.1|   15.7|    0.3| 6.2|        1.7|       3.0|       29.8|    4290|       81.4|      13.6|         5.0|       0.0|        12.1|\n",
      "|    1013|Alabama|   Butler County|   20126| 9416| 10710|     0.3| 52.2| 44.7|   0.1|  1.1|    0.0|           15459| 36326|     2701|       19004|            943|   24.4|        34.8|        26.9|   17.3|  18.5|        11.6|      25.7| 83.6|   12.6|    0.0| 0.9|        0.9|       2.0|       23.2|    7727|       79.1|      15.3|         5.3|       0.3|         7.6|\n",
      "|    1015|Alabama|  Calhoun County|  115527|55593| 59934|     3.6| 72.7| 20.4|   0.2|  1.0|    0.0|           88383| 43686|     1491|       23638|            793|   18.6|        26.6|        29.0|   17.5|  23.7|        10.4|      19.4| 85.0|    9.2|    0.2| 1.3|        1.1|       3.2|       24.8|   47392|       74.9|      19.9|         5.1|       0.1|        10.1|\n",
      "|    1017|Alabama| Chambers County|   33895|16320| 17575|     2.2| 56.2| 39.3|   0.3|  1.0|    0.0|           26259| 37342|     2011|       22002|           1205|   18.8|        29.1|        24.3|   13.5|  23.0|        11.6|      27.6| 87.1|    9.7|    0.2| 0.6|        0.5|       2.0|       23.6|   14527|       84.5|      11.8|         3.7|       0.0|         6.4|\n",
      "|    1019|Alabama| Cherokee County|   25855|12862| 12993|     1.6| 91.8|  5.0|   0.5|  0.1|    0.0|           20620| 40041|     2316|       23010|           1354|   16.1|        20.0|        28.8|   14.8|  18.1|        11.9|      26.5| 85.0|   12.1|    0.4| 0.3|        0.3|       2.0|       26.5|    9879|       74.8|      17.1|         8.1|       0.0|         5.3|\n",
      "|    1021|Alabama|  Chilton County|   43805|21554| 22251|     7.7| 80.4|  9.5|   0.4|  0.4|    0.0|           31776| 43501|     2877|       23368|           1925|   19.4|        27.8|        25.3|   14.5|  23.7|        15.5|      21.0| 83.2|   12.6|    0.1| 0.6|        1.8|       1.7|       32.5|   17675|       81.1|      14.0|         4.5|       0.4|         6.7|\n",
      "|    1023|Alabama|  Choctaw County|   13188| 6277|  6911|     0.5| 56.3| 42.1|   0.0|  0.1|    0.0|           10454| 32122|     2797|       20994|           1307|   22.3|        32.8|        23.6|   15.4|  22.0|        17.1|      21.9| 81.8|   13.7|    0.0| 1.7|        1.2|       1.6|       32.7|    4301|       79.9|      14.8|         4.9|       0.4|         9.8|\n",
      "|    1025|Alabama|   Clarke County|   24625|11649| 12976|     0.2| 53.0| 45.7|   0.1|  0.5|    0.1|           19087| 33827|     2336|       20765|           1203|   25.3|        30.7|        21.6|   14.3|  24.8|        13.7|      25.6| 83.7|   11.9|    0.2| 0.7|        2.7|       0.9|       23.9|    7933|       83.1|      11.8|         5.1|       0.0|        15.2|\n",
      "|    1027|Alabama|     Clay County|   13407| 6471|  6936|     3.1| 80.2| 14.7|   0.9|  0.0|    0.0|           10332| 37287|     6507|       21330|           1553|   19.1|        23.5|        22.2|   14.6|  18.4|        12.9|      31.9| 87.5|    6.0|    0.0| 2.8|        0.6|       3.0|       30.3|    5509|       77.8|      14.5|         7.7|       0.0|         6.4|\n",
      "|    1029|Alabama| Cleburne County|   14939| 7367|  7572|     2.4| 92.7|  2.8|   0.3|  0.5|    0.0|           11329| 37396|     5390|       20873|           1251|   19.1|        31.0|        25.7|   11.4|  23.2|        18.0|      21.7| 81.8|   14.5|    0.0| 0.9|        0.1|       2.7|       33.2|    5743|       76.1|      15.7|         8.2|       0.0|         7.8|\n",
      "|    1031|Alabama|   Coffee County|   51073|25225| 25848|     6.7| 71.0| 17.1|   1.0|  1.3|    0.0|           38026| 49821|     1945|       26216|            950|   16.1|        26.3|        31.6|   17.3|  21.4|        13.1|      16.7| 86.6|    8.1|    0.0| 1.0|        1.4|       2.8|       21.7|   21639|       73.6|      20.7|         5.6|       0.1|         6.0|\n",
      "|    1033|Alabama|  Colbert County|   54435|26143| 28292|     2.4| 78.8| 15.9|   0.7|  0.5|    0.0|           42195| 45477|     1959|       23675|            816|   16.8|        24.1|        27.1|   15.4|  26.0|        11.2|      20.3| 89.1|    7.3|    0.1| 0.7|        0.8|       2.0|       23.1|   22180|       78.1|      16.1|         5.5|       0.3|         6.9|\n",
      "|    1035|Alabama|  Conecuh County|   12649| 6040|  6609|     1.8| 50.3| 46.3|   0.2|  0.0|    0.0|            9812| 30434|     3446|       16337|            934|   26.4|        39.3|        15.9|   19.7|  24.3|        12.8|      27.4| 90.0|    6.7|    0.4| 0.8|        0.4|       1.7|       29.6|    3945|       79.5|      12.3|         7.2|       1.0|        14.5|\n",
      "|    1037|Alabama|    Coosa County|   10955| 5474|  5481|     0.1| 65.3| 33.2|   0.1|  0.0|    0.0|            8989| 34792|     3587|       20342|           1728|   14.4|        17.9|        17.6|   23.2|  23.7|        14.5|      20.9| 83.2|    9.7|    0.6| 1.7|        0.6|       4.2|       29.8|    3897|       78.8|      15.9|         5.4|       0.0|        11.3|\n",
      "|    1039|Alabama|Covington County|   37519|18133| 19386|     1.6| 83.5| 13.0|   0.3|  0.4|    0.0|           29164| 39467|     2392|       22431|            830|   17.6|        25.0|        29.2|   14.3|  22.2|        15.8|      18.4| 86.8|    8.6|    0.2| 1.1|        1.5|       1.9|       25.2|   14686|       80.0|      13.2|         6.7|       0.1|        10.7|\n",
      "+--------+-------+----------------+--------+-----+------+--------+-----+-----+------+-----+-------+----------------+------+---------+------------+---------------+-------+------------+------------+-------+------+------------+----------+-----+-------+-------+----+-----------+----------+-----------+--------+-----------+----------+------------+----------+------------+\n",
      "only showing top 20 rows\n",
      "\n",
      "None\n",
      "root\n",
      " |-- CountyId: string (nullable = true)\n",
      " |-- State: string (nullable = true)\n",
      " |-- County: string (nullable = true)\n",
      " |-- TotalPop: string (nullable = true)\n",
      " |-- Men: string (nullable = true)\n",
      " |-- Women: string (nullable = true)\n",
      " |-- Hispanic: string (nullable = true)\n",
      " |-- White: string (nullable = true)\n",
      " |-- Black: string (nullable = true)\n",
      " |-- Native: string (nullable = true)\n",
      " |-- Asian: string (nullable = true)\n",
      " |-- Pacific: string (nullable = true)\n",
      " |-- VotingAgeCitizen: string (nullable = true)\n",
      " |-- Income: string (nullable = true)\n",
      " |-- IncomeErr: string (nullable = true)\n",
      " |-- IncomePerCap: string (nullable = true)\n",
      " |-- IncomePerCapErr: string (nullable = true)\n",
      " |-- Poverty: string (nullable = true)\n",
      " |-- ChildPoverty: string (nullable = true)\n",
      " |-- Professional: string (nullable = true)\n",
      " |-- Service: string (nullable = true)\n",
      " |-- Office: string (nullable = true)\n",
      " |-- Construction: string (nullable = true)\n",
      " |-- Production: string (nullable = true)\n",
      " |-- Drive: string (nullable = true)\n",
      " |-- Carpool: string (nullable = true)\n",
      " |-- Transit: string (nullable = true)\n",
      " |-- Walk: string (nullable = true)\n",
      " |-- OtherTransp: string (nullable = true)\n",
      " |-- WorkAtHome: string (nullable = true)\n",
      " |-- MeanCommute: string (nullable = true)\n",
      " |-- Employed: string (nullable = true)\n",
      " |-- PrivateWork: string (nullable = true)\n",
      " |-- PublicWork: string (nullable = true)\n",
      " |-- SelfEmployed: string (nullable = true)\n",
      " |-- FamilyWork: string (nullable = true)\n",
      " |-- Unemployment: string (nullable = true)\n",
      "\n",
      "None"
     ]
    }
   ],
   "source": [
    "countyDataDF = spark.read.option(\"header\", \"true\").csv(\"s3://aws-logs-750827748885-us-east-2/tools/ProjectProposal/acs2017_county_data.csv\")\n",
    "countyDataDF.cache()\n",
    "countyDataDF.take(1)\n",
    "print(countyDataDF.show())\n",
    "print(countyDataDF.printSchema())"
   ]
  },
  {
   "cell_type": "code",
   "execution_count": 33,
   "metadata": {},
   "outputs": [],
   "source": [
    "us_state_abbrev = {\n",
    "    'Alabama': 'AL',\n",
    "    'Alaska': 'AK',\n",
    "    'Arizona': 'AZ',\n",
    "    'Arkansas': 'AR',\n",
    "    'California': 'CA',\n",
    "    'Colorado': 'CO',\n",
    "    'Connecticut': 'CT',\n",
    "    'Delaware': 'DE',\n",
    "    'Florida': 'FL',\n",
    "    'Georgia': 'GA',\n",
    "    'Hawaii': 'HI',\n",
    "    'Idaho': 'ID',\n",
    "    'Illinois': 'IL',\n",
    "    'Indiana': 'IN',\n",
    "    'Iowa': 'IA',\n",
    "    'Kansas': 'KS',\n",
    "    'Kentucky': 'KY',\n",
    "    'Louisiana': 'LA',\n",
    "    'Maine': 'ME',\n",
    "    'Maryland': 'MD',\n",
    "    'Massachusetts': 'MA',\n",
    "    'Michigan': 'MI',\n",
    "    'Minnesota': 'MN',\n",
    "    'Mississippi': 'MS',\n",
    "    'Missouri': 'MO',\n",
    "    'Montana': 'MT',\n",
    "    'Nebraska': 'NE',\n",
    "    'Nevada': 'NV',\n",
    "    'New Hampshire': 'NH',\n",
    "    'New Jersey': 'NJ',\n",
    "    'New Mexico': 'NM',\n",
    "    'New York': 'NY',\n",
    "    'North Carolina': 'NC',\n",
    "    'North Dakota': 'ND',\n",
    "    'Ohio': 'OH',\n",
    "    'Oklahoma': 'OK',\n",
    "    'Oregon': 'OR',\n",
    "    'Pennsylvania': 'PA',\n",
    "    'Rhode Island': 'RI',\n",
    "    'South Carolina': 'SC',\n",
    "    'South Dakota': 'SD',\n",
    "    'Tennessee': 'TN',\n",
    "    'Texas': 'TX',\n",
    "    'Utah': 'UT',\n",
    "    'Vermont': 'VT',\n",
    "    'Virginia': 'VA',\n",
    "    'Washington': 'WA',\n",
    "    'West Virginia': 'WV',\n",
    "    'Wisconsin': 'WI',\n",
    "    'Wyoming': 'WY',\n",
    "    'District of Columbia': 'DC',\n",
    "    'Puerto Rico': 'PR'\n",
    "}"
   ]
  },
  {
   "cell_type": "code",
   "execution_count": 34,
   "metadata": {},
   "outputs": [
    {
     "name": "stdout",
     "output_type": "stream",
     "text": [
      "52"
     ]
    }
   ],
   "source": [
    "countyDataDF.select(\"State\").distinct().count()"
   ]
  },
  {
   "cell_type": "code",
   "execution_count": 35,
   "metadata": {},
   "outputs": [
    {
     "name": "stdout",
     "output_type": "stream",
     "text": [
      "AL"
     ]
    }
   ],
   "source": [
    "print(us_state_abbrev[\"Alabama\"])"
   ]
  },
  {
   "cell_type": "code",
   "execution_count": 36,
   "metadata": {},
   "outputs": [],
   "source": [
    "#For this assignment we are only interested in the race columns"
   ]
  },
  {
   "cell_type": "code",
   "execution_count": 37,
   "metadata": {},
   "outputs": [],
   "source": [
    "demographicsList = [\"CountyId\",\"State\",\"County\",\"TotalPop\",\"Men\",\"Women\",\"Hispanic\",\"White\",\"Black\",\"Native\",\"Asian\",\"Pacific\"]"
   ]
  },
  {
   "cell_type": "code",
   "execution_count": 38,
   "metadata": {},
   "outputs": [],
   "source": [
    "countyDataTrimmedDf = countyDataDF.select(demographicsList)"
   ]
  },
  {
   "cell_type": "code",
   "execution_count": 39,
   "metadata": {},
   "outputs": [
    {
     "name": "stdout",
     "output_type": "stream",
     "text": [
      "root\n",
      " |-- CountyId: string (nullable = true)\n",
      " |-- State: string (nullable = true)\n",
      " |-- County: string (nullable = true)\n",
      " |-- TotalPop: string (nullable = true)\n",
      " |-- Men: string (nullable = true)\n",
      " |-- Women: string (nullable = true)\n",
      " |-- Hispanic: string (nullable = true)\n",
      " |-- White: string (nullable = true)\n",
      " |-- Black: string (nullable = true)\n",
      " |-- Native: string (nullable = true)\n",
      " |-- Asian: string (nullable = true)\n",
      " |-- Pacific: string (nullable = true)"
     ]
    }
   ],
   "source": [
    "countyDataTrimmedDf.printSchema()"
   ]
  },
  {
   "cell_type": "code",
   "execution_count": 40,
   "metadata": {},
   "outputs": [
    {
     "name": "stdout",
     "output_type": "stream",
     "text": [
      "+--------+-------+--------------+--------+-----+-----+--------+-----+-----+------+-----+-------+\n",
      "|CountyId|  State|        County|TotalPop|  Men|Women|Hispanic|White|Black|Native|Asian|Pacific|\n",
      "+--------+-------+--------------+--------+-----+-----+--------+-----+-----+------+-----+-------+\n",
      "|    1001|Alabama|Autauga County|   55036|26899|28137|     2.7| 75.4| 18.9|   0.3|  0.9|    0.0|\n",
      "+--------+-------+--------------+--------+-----+-----+--------+-----+-----+------+-----+-------+\n",
      "only showing top 1 row"
     ]
    }
   ],
   "source": [
    "countyDataTrimmedDf.show(1)"
   ]
  },
  {
   "cell_type": "code",
   "execution_count": 41,
   "metadata": {},
   "outputs": [],
   "source": [
    "#As we can see we are only given the percentages by county. Lets convert that to the total population by county"
   ]
  },
  {
   "cell_type": "code",
   "execution_count": 42,
   "metadata": {},
   "outputs": [],
   "source": [
    "#We need to convert state from a full name to an abbreviation"
   ]
  },
  {
   "cell_type": "code",
   "execution_count": 43,
   "metadata": {},
   "outputs": [],
   "source": [
    "from pyspark.sql.functions import udf\n",
    "def lookUpState(string_input):\n",
    "    state = us_state_abbrev[string_input]\n",
    "    return state\n",
    "lookUpState_udf = udf(lookUpState, StringType())"
   ]
  },
  {
   "cell_type": "code",
   "execution_count": 44,
   "metadata": {},
   "outputs": [
    {
     "name": "stdout",
     "output_type": "stream",
     "text": [
      "Column<b'lookUpState(Alabama)'>"
     ]
    }
   ],
   "source": [
    "print(lookUpState_udf(\"Alabama\"))"
   ]
  },
  {
   "cell_type": "code",
   "execution_count": 45,
   "metadata": {
    "scrolled": true
   },
   "outputs": [],
   "source": [
    "from pyspark.sql.functions import col, to_date\n",
    "countyDataTotalDf = countyDataTrimmedDf\\\n",
    ".withColumn(\"State\", lookUpState_udf(countyDataTrimmedDf[\"State\"]))\\\n",
    ".withColumn(\"Total Hispanic\", round((countyDataTrimmedDf[\"Hispanic\"].cast(\"double\") * \\\n",
    "                               (countyDataTrimmedDf[\"TotalPop\"].cast(\"double\") / 100 ))))\\\n",
    ".withColumn(\"Total White\", round((countyDataTrimmedDf[\"White\"].cast(\"double\") * \\\n",
    "                               (countyDataTrimmedDf[\"TotalPop\"].cast(\"double\") / 100 ))))\\\n",
    ".withColumn(\"Total Black\", round((countyDataTrimmedDf[\"Black\"].cast(\"double\") * \\\n",
    "                               (countyDataTrimmedDf[\"TotalPop\"].cast(\"double\") / 100 ))))\\\n",
    ".withColumn(\"Total Native\", round((countyDataTrimmedDf[\"Native\"].cast(\"double\") * \\\n",
    "                               (countyDataTrimmedDf[\"TotalPop\"].cast(\"double\") / 100 ))))\\\n",
    ".withColumn(\"Total Asian\", round((countyDataTrimmedDf[\"Asian\"].cast(\"double\") * \\\n",
    "                               (countyDataTrimmedDf[\"TotalPop\"].cast(\"double\") / 100 ))))\\\n",
    ".withColumn(\"Total Pacific\", round((countyDataTrimmedDf[\"Pacific\"].cast(\"double\") * \\\n",
    "                               (countyDataTrimmedDf[\"TotalPop\"].cast(\"double\") / 100 ))))\\"
   ]
  },
  {
   "cell_type": "code",
   "execution_count": 46,
   "metadata": {},
   "outputs": [
    {
     "name": "stdout",
     "output_type": "stream",
     "text": [
      "root\n",
      " |-- CountyId: string (nullable = true)\n",
      " |-- State: string (nullable = true)\n",
      " |-- County: string (nullable = true)\n",
      " |-- TotalPop: string (nullable = true)\n",
      " |-- Men: string (nullable = true)\n",
      " |-- Women: string (nullable = true)\n",
      " |-- Hispanic: string (nullable = true)\n",
      " |-- White: string (nullable = true)\n",
      " |-- Black: string (nullable = true)\n",
      " |-- Native: string (nullable = true)\n",
      " |-- Asian: string (nullable = true)\n",
      " |-- Pacific: string (nullable = true)\n",
      " |-- Total Hispanic: double (nullable = true)\n",
      " |-- Total White: double (nullable = true)\n",
      " |-- Total Black: double (nullable = true)\n",
      " |-- Total Native: double (nullable = true)\n",
      " |-- Total Asian: double (nullable = true)\n",
      " |-- Total Pacific: double (nullable = true)"
     ]
    }
   ],
   "source": [
    "countyDataTotalDf.printSchema()"
   ]
  },
  {
   "cell_type": "code",
   "execution_count": 47,
   "metadata": {},
   "outputs": [
    {
     "name": "stdout",
     "output_type": "stream",
     "text": [
      "+--------+-----+--------------+--------+-----+-----+--------+-----+-----+------+-----+-------+--------------+-----------+-----------+------------+-----------+-------------+\n",
      "|CountyId|State|        County|TotalPop|  Men|Women|Hispanic|White|Black|Native|Asian|Pacific|Total Hispanic|Total White|Total Black|Total Native|Total Asian|Total Pacific|\n",
      "+--------+-----+--------------+--------+-----+-----+--------+-----+-----+------+-----+-------+--------------+-----------+-----------+------------+-----------+-------------+\n",
      "|    1001|   AL|Autauga County|   55036|26899|28137|     2.7| 75.4| 18.9|   0.3|  0.9|    0.0|        1486.0|    41497.0|    10402.0|       165.0|      495.0|          0.0|\n",
      "+--------+-----+--------------+--------+-----+-----+--------+-----+-----+------+-----+-------+--------------+-----------+-----------+------------+-----------+-------------+\n",
      "only showing top 1 row"
     ]
    }
   ],
   "source": [
    "countyDataTotalDf.show(1)"
   ]
  },
  {
   "cell_type": "code",
   "execution_count": 48,
   "metadata": {},
   "outputs": [
    {
     "name": "stdout",
     "output_type": "stream",
     "text": [
      "+-----+---------------+\n",
      "|State|Total Black Pop|\n",
      "+-----+---------------+\n",
      "|   TX|      3198950.0|\n",
      "|   GA|      3150690.0|\n",
      "|   FL|      3127595.0|\n",
      "|   NY|      2844489.0|\n",
      "|   CA|      2162581.0|\n",
      "|   NC|      2127567.0|\n",
      "|   IL|      1806173.0|\n",
      "|   MD|      1754681.0|\n",
      "|   VA|      1575338.0|\n",
      "|   LA|      1490495.0|\n",
      "+-----+---------------+\n",
      "only showing top 10 rows\n",
      "\n",
      "----------------------------------------\n",
      "Exception happened during processing of request from ('127.0.0.1', 49378)\n",
      "Traceback (most recent call last):\n",
      "  File \"/usr/lib64/python3.6/socketserver.py\", line 317, in _handle_request_noblock\n",
      "    self.process_request(request, client_address)\n",
      "  File \"/usr/lib64/python3.6/socketserver.py\", line 348, in process_request\n",
      "    self.finish_request(request, client_address)\n",
      "  File \"/usr/lib64/python3.6/socketserver.py\", line 361, in finish_request\n",
      "    self.RequestHandlerClass(request, client_address, self)\n",
      "  File \"/usr/lib64/python3.6/socketserver.py\", line 721, in __init__\n",
      "    self.handle()\n",
      "  File \"/usr/lib/spark/python/lib/pyspark.zip/pyspark/accumulators.py\", line 266, in handle\n",
      "    poll(authenticate_and_accum_updates)\n",
      "  File \"/usr/lib/spark/python/lib/pyspark.zip/pyspark/accumulators.py\", line 241, in poll\n",
      "    if func():\n",
      "  File \"/usr/lib/spark/python/lib/pyspark.zip/pyspark/accumulators.py\", line 254, in authenticate_and_accum_updates\n",
      "    received_token = self.rfile.read(len(auth_token))\n",
      "TypeError: object of type 'NoneType' has no len()\n",
      "----------------------------------------"
     ]
    }
   ],
   "source": [
    "#Lets see the the states with the largest population of black residents by total.\n",
    "\n",
    "countyDataTotalDf\\\n",
    ".groupBy(\"State\")\\\n",
    ".sum(\"Total Black\")\\\n",
    ".withColumnRenamed(\"sum(Total Black)\", \"Total Black Pop\")\\\n",
    ".sort(\"Total Black Pop\", ascending=False).show(10)"
   ]
  },
  {
   "cell_type": "code",
   "execution_count": 49,
   "metadata": {},
   "outputs": [],
   "source": [
    "###########################################################################################################################\n",
    "\n",
    "# DATA SOURCE NUMBER: 3\n",
    "\n",
    "# ZIPCODE TO COUNTY DATA\n",
    "\n",
    "#Now lets take a look at the ZipCode data set\n",
    "\n",
    "#Data source: https://www.kaggle.com/danofer/zipcodes-county-fips-crosswalk/version/1\n",
    "\n",
    "###########################################################################################################################"
   ]
  },
  {
   "cell_type": "code",
   "execution_count": 50,
   "metadata": {},
   "outputs": [
    {
     "name": "stdout",
     "output_type": "stream",
     "text": [
      "+-----+--------------+-----+----------+-------+\n",
      "|  ZIP|    COUNTYNAME|STATE|STCOUNTYFP|CLASSFP|\n",
      "+-----+--------------+-----+----------+-------+\n",
      "|36003|Autauga County|   AL|     01001|     H1|\n",
      "|36006|Autauga County|   AL|     01001|     H1|\n",
      "|36067|Autauga County|   AL|     01001|     H1|\n",
      "|36066|Autauga County|   AL|     01001|     H1|\n",
      "|36703|Autauga County|   AL|     01001|     H1|\n",
      "|36701|Autauga County|   AL|     01001|     H1|\n",
      "|36091|Autauga County|   AL|     01001|     H1|\n",
      "|36051|Autauga County|   AL|     01001|     H1|\n",
      "|36068|Autauga County|   AL|     01001|     H1|\n",
      "|36008|Autauga County|   AL|     01001|     H1|\n",
      "|36022|Autauga County|   AL|     01001|     H1|\n",
      "|36749|Autauga County|   AL|     01001|     H1|\n",
      "|36758|Autauga County|   AL|     01001|     H1|\n",
      "|36550|Baldwin County|   AL|     01003|     H1|\n",
      "|36551|Baldwin County|   AL|     01003|     H1|\n",
      "|36527|Baldwin County|   AL|     01003|     H1|\n",
      "|36577|Baldwin County|   AL|     01003|     H1|\n",
      "|36559|Baldwin County|   AL|     01003|     H1|\n",
      "|36536|Baldwin County|   AL|     01003|     H1|\n",
      "|36576|Baldwin County|   AL|     01003|     H1|\n",
      "+-----+--------------+-----+----------+-------+\n",
      "only showing top 20 rows\n",
      "\n",
      "None\n",
      "root\n",
      " |-- ZIP: string (nullable = true)\n",
      " |-- COUNTYNAME: string (nullable = true)\n",
      " |-- STATE: string (nullable = true)\n",
      " |-- STCOUNTYFP: string (nullable = true)\n",
      " |-- CLASSFP: string (nullable = true)\n",
      "\n",
      "None"
     ]
    }
   ],
   "source": [
    "zipCodeDF = spark.read.option(\"header\",\"true\").csv(\"s3://aws-logs-750827748885-us-east-2/tools/ProjectProposal/ZIP-COUNTY-FIPS_2017-06.csv\")\n",
    "zipCodeDF.cache()\n",
    "zipCodeDF.take(1)\n",
    "print(zipCodeDF.show())\n",
    "print(zipCodeDF.printSchema())"
   ]
  },
  {
   "cell_type": "code",
   "execution_count": 51,
   "metadata": {},
   "outputs": [
    {
     "name": "stdout",
     "output_type": "stream",
     "text": [
      "root\n",
      " |-- ZIP: string (nullable = true)\n",
      " |-- COUNTYNAME: string (nullable = true)\n",
      " |-- STATE: string (nullable = true)"
     ]
    }
   ],
   "source": [
    "zipcodeColumns = [\"ZIP\",\"COUNTYNAME\",\"STATE\"]\n",
    "zipCodeTrimmedDF = zipCodeDF.select(zipcodeColumns)\n",
    "zipCodeTrimmedDF.printSchema()"
   ]
  },
  {
   "cell_type": "code",
   "execution_count": 52,
   "metadata": {},
   "outputs": [],
   "source": [
    "#This one is pretty clear cut. It aligns Zip codes with their county names. Normal Case matches demographic data"
   ]
  },
  {
   "cell_type": "code",
   "execution_count": 53,
   "metadata": {},
   "outputs": [],
   "source": [
    "###########################################################################################################################\n",
    "\n",
    "#DATA SOURCE NUMBER: 4\n",
    "\n",
    "# INCOME TAX NAMES\n",
    "\n",
    "#Now lets look at the definitions for the income tax fields\n",
    "\n",
    "#Data source: https://www.kaggle.com/irs/individual-income-tax-statistics#field_definitions.csv\n",
    "\n",
    "###########################################################################################################################"
   ]
  },
  {
   "cell_type": "code",
   "execution_count": 54,
   "metadata": {},
   "outputs": [
    {
     "name": "stdout",
     "output_type": "stream",
     "text": [
      "+-------------+--------------------+------------------+----+\n",
      "|Variable_Name|         Description|        Value_Line|year|\n",
      "+-------------+--------------------+------------------+----+\n",
      "|    STATEFIPS|The State Federal...|             01-56|2014|\n",
      "|       A85770|Total premium tax...|           8962:24|2014|\n",
      "|       A09400|Self-employment t...|           1040:57|2014|\n",
      "|       N09400|Number of returns...|           1040:57|2014|\n",
      "|       N07260|Number of returns...|           1040:53|2014|\n",
      "|       A07220|Child tax credit ...|1040:52 / 1040A:35|2014|\n",
      "|       N07220|Number of returns...|1040:52 / 1040A:35|2014|\n",
      "|       A07240|Retirement saving...|1040:51 / 1040A:34|2014|\n",
      "|       N07240|Number of returns...|1040:51 / 1040A:34|2014|\n",
      "|       A07230|Nonrefundable edu...|1040:50 / 1040A:33|2014|\n",
      "|       N07230|Number of returns...|1040:50 / 1040A:33|2014|\n",
      "|       A07180|Child and depende...|1040:49 / 1040A:31|2014|\n",
      "|       N07180|Number of returns...|1040:49 / 1040A:31|2014|\n",
      "|       A07300|Foreign tax credi...|           1040:48|2014|\n",
      "|       N07300|Number of returns...|           1040:48|2014|\n",
      "|       A07100|Total tax credits...|1040:55 / 1040A:36|2014|\n",
      "|       N07100|Number of returns...|1040:55 / 1040A:36|2014|\n",
      "|       A05780|Excess advance pr...| 1040:46/ 1040A:29|2014|\n",
      "|       N05780|Number of returns...| 1040:46/ 1040A:29|2014|\n",
      "|       A09600|Alternative minim...|           1040:45|2014|\n",
      "+-------------+--------------------+------------------+----+\n",
      "only showing top 20 rows\n",
      "\n",
      "None\n",
      "root\n",
      " |-- Variable_Name: string (nullable = true)\n",
      " |-- Description: string (nullable = true)\n",
      " |-- Value_Line: string (nullable = true)\n",
      " |-- year: string (nullable = true)\n",
      "\n",
      "None"
     ]
    }
   ],
   "source": [
    "incomeTaxFieldsDF = spark.read.option(\"header\",\"true\").csv(\"s3://aws-logs-750827748885-us-east-2/tools/ProjectProposal/field_definitions.csv\")\n",
    "incomeTaxFieldsDF.cache()\n",
    "incomeTaxFieldsDF.take(1)\n",
    "print(incomeTaxFieldsDF.show())\n",
    "print(incomeTaxFieldsDF.printSchema())"
   ]
  },
  {
   "cell_type": "code",
   "execution_count": 55,
   "metadata": {},
   "outputs": [],
   "source": [
    "# A04800\tTaxable income amount\n",
    "# A06500\tIncome tax amount \n",
    "# A18425\tState and local income taxes amount\n",
    "# A07220\tChild tax credit amount\n",
    "# A19300\tMortgage interest paid amount"
   ]
  },
  {
   "cell_type": "code",
   "execution_count": 56,
   "metadata": {},
   "outputs": [],
   "source": [
    "###########################################################################################################################\n",
    "\n",
    "# DATA SOURCE NUMBER: 5\n",
    "\n",
    "# INCOME TAX DATA\n",
    "\n",
    "#Now lets take a look at the tax return data\n",
    "\n",
    "#Data source: https://www.irs.gov/statistics/soi-tax-stats-individual-income-tax-statistics-2016-zip-code-data-soi\n",
    "\n",
    "###########################################################################################################################"
   ]
  },
  {
   "cell_type": "code",
   "execution_count": 57,
   "metadata": {},
   "outputs": [
    {
     "name": "stdout",
     "output_type": "stream",
     "text": [
      "+---------+-----+-------+--------+-------+------+------+------+-------+-------+-------+----------+-----+-----+--------+-----+------+-------+---------+-------+---------+-------+--------+------+------+------+-------+------+-------+------+------+------+-------+------+-------+------+-------+------+--------+-----+------+------+------+-------+------+-------+------+-------+------+------+------+------+------+------+------+------+------+------+------+------+------+------+------+--------+--------+------+-------+------+-------+------+------+------+------+------+------+------+-------+------+-------+------+------+------+------+------+------+------+------+------+-------+------+-------+------+------+-------+--------+-------+--------+------+------+------+------+------+------+------+------+------+------+------+------+------+------+------+------+------+------+------+------+------+------+------+------+------+------+-------+--------+------+-------+------+-------+------+------+------+------+------+------+-------+--------+-------+--------+------+------+------+------+------+-------+-------+-------+\n",
      "|STATEFIPS|STATE|ZIPCODE|AGI_STUB|     N1| MARS1| MARS2| MARS4|   PREP|     N2| NUMDEP|TOTAL_VITA| VITA|  TCE|VITA_EIC|  RAL|   RAC|ELDERLY|   A00100| N02650|   A02650| N00200|  A00200|N00300|A00300|N00600| A00600|N00650| A00650|N00700|A00700|N00900| A00900|N01000| A01000|N01400| A01400|N01700|  A01700| SCHF|N02300|A02300|N02500| A02500|N26270| A26270|N02900| A02900|N03220|A03220|N03300|A03300|N03270|A03270|N03150|A03150|N03210|A03210|N03230|A03230|N03240|A03240|N04470|  A04470|  A00101|N17000| A17000|N18425| A18425|N18450|A18450|N18500|A18500|N18800|A18800|N18300| A18300|N19300| A19300|N19500|A19500|N19530|A19530|N19550|A19550|N19570|A19570|N19700| A19700|N20800| A20800|N21020|A21020| N04800|  A04800| N05800|  A05800|N09600|A09600|N05780|A05780|N07100|A07100|N07300|A07300|N07180|A07180|N07230|A07230|N07240|A07240|N07220|A07220|N07260|A07260|N09400|A09400|N85770|A85770|N85775|A85775|N09750|A09750| N10600|  A10600|N59660| A59660|N59720| A59720|N11070|A11070|N10960|A10960|N11560|A11560| N06500|  A06500| N10300|  A10300|N85530|A85530|N85300|A85300|N11901| A11901| N11902| A11902|\n",
      "+---------+-----+-------+--------+-------+------+------+------+-------+-------+-------+----------+-----+-----+--------+-----+------+-------+---------+-------+---------+-------+--------+------+------+------+-------+------+-------+------+------+------+-------+------+-------+------+-------+------+--------+-----+------+------+------+-------+------+-------+------+-------+------+------+------+------+------+------+------+------+------+------+------+------+------+------+------+--------+--------+------+-------+------+-------+------+------+------+------+------+------+------+-------+------+-------+------+------+------+------+------+------+------+------+------+-------+------+-------+------+------+-------+--------+-------+--------+------+------+------+------+------+------+------+------+------+------+------+------+------+------+------+------+------+------+------+------+------+------+------+------+------+------+-------+--------+------+-------+------+-------+------+------+------+------+------+------+-------+--------+-------+--------+------+------+------+------+------+-------+-------+-------+\n",
      "|        1|   AL|      0|       0|2016530|825680|748830|402320|1140180|4065690|1417040|     39400|26030|13370|    5720|43470|415860| 475120|114357010|2016520|115806207|1692780|80874192|487730|661987|257950|1593792|236710|1271278|313420|342665|338060|3134618|216140|2962720|170960|2736118|419940|10175468|40500| 51580|157296|296270|4006534| 86880|6647832|462910|1449197| 45330| 11592|  4560|113441| 39640|290341| 23040|103108|131190|138468| 14920| 37316|  2810| 81746|537420|12191895|63516782|142990|1148408|429850|2252158| 88420|131633|428760|644476|374380|128381|534530|3213652|385860|2723972|  6530| 24320| 16820|  8445| 64060| 81553|  9840| 57916|468310|3432168|165450|1289250| 10670|120346|1499090|75791128|1501200|14043581| 19330| 86580| 40870| 29281|622430|703707| 58480| 24509| 95570| 51892|132070|141515|128970| 23543|327480|381927| 37030| 19256|245600|626014| 81900|336437| 90780|368101| 44910| 30279|1937650|17621081|502290|1388980|449420|1226972|342120|449260|142860|132627| 33650| 18934|1318500|13326028|1458270|14219765| 23560| 40254| 28280| 89091|358370|1683323|1583690|4690385|\n",
      "+---------+-----+-------+--------+-------+------+------+------+-------+-------+-------+----------+-----+-----+--------+-----+------+-------+---------+-------+---------+-------+--------+------+------+------+-------+------+-------+------+------+------+-------+------+-------+------+-------+------+--------+-----+------+------+------+-------+------+-------+------+-------+------+------+------+------+------+------+------+------+------+------+------+------+------+------+------+--------+--------+------+-------+------+-------+------+------+------+------+------+------+------+-------+------+-------+------+------+------+------+------+------+------+------+------+-------+------+-------+------+------+-------+--------+-------+--------+------+------+------+------+------+------+------+------+------+------+------+------+------+------+------+------+------+------+------+------+------+------+------+------+------+------+-------+--------+------+-------+------+-------+------+------+------+------+------+------+-------+--------+-------+--------+------+------+------+------+------+-------+-------+-------+\n",
      "only showing top 1 row\n",
      "\n",
      "None\n",
      "root\n",
      " |-- STATEFIPS: string (nullable = true)\n",
      " |-- STATE: string (nullable = true)\n",
      " |-- ZIPCODE: string (nullable = true)\n",
      " |-- AGI_STUB: string (nullable = true)\n",
      " |-- N1: string (nullable = true)\n",
      " |-- MARS1: string (nullable = true)\n",
      " |-- MARS2: string (nullable = true)\n",
      " |-- MARS4: string (nullable = true)\n",
      " |-- PREP: string (nullable = true)\n",
      " |-- N2: string (nullable = true)\n",
      " |-- NUMDEP: string (nullable = true)\n",
      " |-- TOTAL_VITA: string (nullable = true)\n",
      " |-- VITA: string (nullable = true)\n",
      " |-- TCE: string (nullable = true)\n",
      " |-- VITA_EIC: string (nullable = true)\n",
      " |-- RAL: string (nullable = true)\n",
      " |-- RAC: string (nullable = true)\n",
      " |-- ELDERLY: string (nullable = true)\n",
      " |-- A00100: string (nullable = true)\n",
      " |-- N02650: string (nullable = true)\n",
      " |-- A02650: string (nullable = true)\n",
      " |-- N00200: string (nullable = true)\n",
      " |-- A00200: string (nullable = true)\n",
      " |-- N00300: string (nullable = true)\n",
      " |-- A00300: string (nullable = true)\n",
      " |-- N00600: string (nullable = true)\n",
      " |-- A00600: string (nullable = true)\n",
      " |-- N00650: string (nullable = true)\n",
      " |-- A00650: string (nullable = true)\n",
      " |-- N00700: string (nullable = true)\n",
      " |-- A00700: string (nullable = true)\n",
      " |-- N00900: string (nullable = true)\n",
      " |-- A00900: string (nullable = true)\n",
      " |-- N01000: string (nullable = true)\n",
      " |-- A01000: string (nullable = true)\n",
      " |-- N01400: string (nullable = true)\n",
      " |-- A01400: string (nullable = true)\n",
      " |-- N01700: string (nullable = true)\n",
      " |-- A01700: string (nullable = true)\n",
      " |-- SCHF: string (nullable = true)\n",
      " |-- N02300: string (nullable = true)\n",
      " |-- A02300: string (nullable = true)\n",
      " |-- N02500: string (nullable = true)\n",
      " |-- A02500: string (nullable = true)\n",
      " |-- N26270: string (nullable = true)\n",
      " |-- A26270: string (nullable = true)\n",
      " |-- N02900: string (nullable = true)\n",
      " |-- A02900: string (nullable = true)\n",
      " |-- N03220: string (nullable = true)\n",
      " |-- A03220: string (nullable = true)\n",
      " |-- N03300: string (nullable = true)\n",
      " |-- A03300: string (nullable = true)\n",
      " |-- N03270: string (nullable = true)\n",
      " |-- A03270: string (nullable = true)\n",
      " |-- N03150: string (nullable = true)\n",
      " |-- A03150: string (nullable = true)\n",
      " |-- N03210: string (nullable = true)\n",
      " |-- A03210: string (nullable = true)\n",
      " |-- N03230: string (nullable = true)\n",
      " |-- A03230: string (nullable = true)\n",
      " |-- N03240: string (nullable = true)\n",
      " |-- A03240: string (nullable = true)\n",
      " |-- N04470: string (nullable = true)\n",
      " |-- A04470: string (nullable = true)\n",
      " |-- A00101: string (nullable = true)\n",
      " |-- N17000: string (nullable = true)\n",
      " |-- A17000: string (nullable = true)\n",
      " |-- N18425: string (nullable = true)\n",
      " |-- A18425: string (nullable = true)\n",
      " |-- N18450: string (nullable = true)\n",
      " |-- A18450: string (nullable = true)\n",
      " |-- N18500: string (nullable = true)\n",
      " |-- A18500: string (nullable = true)\n",
      " |-- N18800: string (nullable = true)\n",
      " |-- A18800: string (nullable = true)\n",
      " |-- N18300: string (nullable = true)\n",
      " |-- A18300: string (nullable = true)\n",
      " |-- N19300: string (nullable = true)\n",
      " |-- A19300: string (nullable = true)\n",
      " |-- N19500: string (nullable = true)\n",
      " |-- A19500: string (nullable = true)\n",
      " |-- N19530: string (nullable = true)\n",
      " |-- A19530: string (nullable = true)\n",
      " |-- N19550: string (nullable = true)\n",
      " |-- A19550: string (nullable = true)\n",
      " |-- N19570: string (nullable = true)\n",
      " |-- A19570: string (nullable = true)\n",
      " |-- N19700: string (nullable = true)\n",
      " |-- A19700: string (nullable = true)\n",
      " |-- N20800: string (nullable = true)\n",
      " |-- A20800: string (nullable = true)\n",
      " |-- N21020: string (nullable = true)\n",
      " |-- A21020: string (nullable = true)\n",
      " |-- N04800: string (nullable = true)\n",
      " |-- A04800: string (nullable = true)\n",
      " |-- N05800: string (nullable = true)\n",
      " |-- A05800: string (nullable = true)\n",
      " |-- N09600: string (nullable = true)\n",
      " |-- A09600: string (nullable = true)\n",
      " |-- N05780: string (nullable = true)\n",
      " |-- A05780: string (nullable = true)\n",
      " |-- N07100: string (nullable = true)\n",
      " |-- A07100: string (nullable = true)\n",
      " |-- N07300: string (nullable = true)\n",
      " |-- A07300: string (nullable = true)\n",
      " |-- N07180: string (nullable = true)\n",
      " |-- A07180: string (nullable = true)\n",
      " |-- N07230: string (nullable = true)\n",
      " |-- A07230: string (nullable = true)\n",
      " |-- N07240: string (nullable = true)\n",
      " |-- A07240: string (nullable = true)\n",
      " |-- N07220: string (nullable = true)\n",
      " |-- A07220: string (nullable = true)\n",
      " |-- N07260: string (nullable = true)\n",
      " |-- A07260: string (nullable = true)\n",
      " |-- N09400: string (nullable = true)\n",
      " |-- A09400: string (nullable = true)\n",
      " |-- N85770: string (nullable = true)\n",
      " |-- A85770: string (nullable = true)\n",
      " |-- N85775: string (nullable = true)\n",
      " |-- A85775: string (nullable = true)\n",
      " |-- N09750: string (nullable = true)\n",
      " |-- A09750: string (nullable = true)\n",
      " |-- N10600: string (nullable = true)\n",
      " |-- A10600: string (nullable = true)\n",
      " |-- N59660: string (nullable = true)\n",
      " |-- A59660: string (nullable = true)\n",
      " |-- N59720: string (nullable = true)\n",
      " |-- A59720: string (nullable = true)\n",
      " |-- N11070: string (nullable = true)\n",
      " |-- A11070: string (nullable = true)\n",
      " |-- N10960: string (nullable = true)\n",
      " |-- A10960: string (nullable = true)\n",
      " |-- N11560: string (nullable = true)\n",
      " |-- A11560: string (nullable = true)\n",
      " |-- N06500: string (nullable = true)\n",
      " |-- A06500: string (nullable = true)\n",
      " |-- N10300: string (nullable = true)\n",
      " |-- A10300: string (nullable = true)\n",
      " |-- N85530: string (nullable = true)\n",
      " |-- A85530: string (nullable = true)\n",
      " |-- N85300: string (nullable = true)\n",
      " |-- A85300: string (nullable = true)\n",
      " |-- N11901: string (nullable = true)\n",
      " |-- A11901: string (nullable = true)\n",
      " |-- N11902: string (nullable = true)\n",
      " |-- A11902: string (nullable = true)\n",
      "\n",
      "None"
     ]
    }
   ],
   "source": [
    "incomeTaxDF = spark.read.option(\"header\",\"true\").csv(\"s3://aws-logs-750827748885-us-east-2/tools/ProjectProposal/16zpallnoagi.csv\")\n",
    "incomeTaxDF.cache()\n",
    "incomeTaxDF.take(1)\n",
    "print(incomeTaxDF.show(1))\n",
    "print(incomeTaxDF.printSchema())"
   ]
  },
  {
   "cell_type": "code",
   "execution_count": 58,
   "metadata": {},
   "outputs": [],
   "source": [
    "#We are mostly just interested in State, Zipcode, A04800, A06500, A18425, A07220, A19300"
   ]
  },
  {
   "cell_type": "code",
   "execution_count": 59,
   "metadata": {},
   "outputs": [],
   "source": [
    "incomeFields = [\"STATE\",\"ZIPCODE\",\"A04800\",\"A06500\",\"A18425\",\"A07220\",\"A19300\"]"
   ]
  },
  {
   "cell_type": "code",
   "execution_count": 60,
   "metadata": {},
   "outputs": [],
   "source": [
    "incomeTaxTrimmedDF = incomeTaxDF.select(incomeFields)"
   ]
  },
  {
   "cell_type": "code",
   "execution_count": 61,
   "metadata": {},
   "outputs": [
    {
     "name": "stdout",
     "output_type": "stream",
     "text": [
      "root\n",
      " |-- STATE: string (nullable = true)\n",
      " |-- ZIPCODE: string (nullable = true)\n",
      " |-- A04800: string (nullable = true)\n",
      " |-- A06500: string (nullable = true)\n",
      " |-- A18425: string (nullable = true)\n",
      " |-- A07220: string (nullable = true)\n",
      " |-- A19300: string (nullable = true)"
     ]
    }
   ],
   "source": [
    "incomeTaxTrimmedDF.printSchema()"
   ]
  },
  {
   "cell_type": "code",
   "execution_count": 62,
   "metadata": {},
   "outputs": [
    {
     "name": "stdout",
     "output_type": "stream",
     "text": [
      "+-----+-------+--------+--------+-------+------+-------+\n",
      "|STATE|ZIPCODE|  A04800|  A06500| A18425|A07220| A19300|\n",
      "+-----+-------+--------+--------+-------+------+-------+\n",
      "|   AL|      0|75791128|13326028|2252158|381927|2723972|\n",
      "+-----+-------+--------+--------+-------+------+-------+\n",
      "only showing top 1 row"
     ]
    }
   ],
   "source": [
    "incomeTaxTrimmedDF.show(1)"
   ]
  },
  {
   "cell_type": "code",
   "execution_count": 63,
   "metadata": {},
   "outputs": [
    {
     "name": "stdout",
     "output_type": "stream",
     "text": [
      "'Taxable income amount'"
     ]
    }
   ],
   "source": [
    "incomeTaxFieldsDF.where(incomeTaxFieldsDF[\"Variable_Name\"] == \"A04800\").collect()[0].asDict()['Description']"
   ]
  },
  {
   "cell_type": "code",
   "execution_count": 64,
   "metadata": {},
   "outputs": [],
   "source": [
    "taxName = {\n",
    "    \"A04800\" : incomeTaxFieldsDF.where(incomeTaxFieldsDF[\"Variable_Name\"] == \"A04800\").collect()[0].asDict()['Description'],\n",
    "    \"A06500\" : incomeTaxFieldsDF.where(incomeTaxFieldsDF[\"Variable_Name\"] == \"A06500\").collect()[0].asDict()['Description'],\n",
    "    \"A18425\" : incomeTaxFieldsDF.where(incomeTaxFieldsDF[\"Variable_Name\"] == \"A18425\").collect()[0].asDict()['Description'],\n",
    "    \"A07220\" : incomeTaxFieldsDF.where(incomeTaxFieldsDF[\"Variable_Name\"] == \"A07220\").collect()[0].asDict()['Description'],\n",
    "    \"A19300\" : incomeTaxFieldsDF.where(incomeTaxFieldsDF[\"Variable_Name\"] == \"A19300\").collect()[0].asDict()['Description']\n",
    "}"
   ]
  },
  {
   "cell_type": "code",
   "execution_count": 65,
   "metadata": {},
   "outputs": [],
   "source": [
    "incomeTaxTrimmedDF = incomeTaxTrimmedDF.withColumn(\"ZIPCODE_INT\", incomeTaxTrimmedDF[\"ZIPCODE\"].cast(\"int\"))\\\n",
    "    .select(incomeTaxTrimmedDF[\"A04800\"].alias(taxName[\"A04800\"]),\\\n",
    "           incomeTaxTrimmedDF[\"A06500\"].alias(taxName[\"A06500\"]),\\\n",
    "           incomeTaxTrimmedDF[\"A18425\"].alias(taxName[\"A18425\"]),\\\n",
    "           incomeTaxTrimmedDF[\"A07220\"].alias(taxName[\"A07220\"]),\\\n",
    "           incomeTaxTrimmedDF[\"A19300\"].alias(taxName[\"A19300\"]),\\\n",
    "           \"ZIPCODE_INT\",\\\n",
    "           \"STATE\")"
   ]
  },
  {
   "cell_type": "code",
   "execution_count": 66,
   "metadata": {},
   "outputs": [
    {
     "name": "stdout",
     "output_type": "stream",
     "text": [
      "+---------------------+----------------------+-----------------------------------+-----------------------+-----------------------------+-----------+-----+\n",
      "|Taxable income amount|Income tax amount [8] |State and local income taxes amount|Child tax credit amount|Mortgage interest paid amount|ZIPCODE_INT|STATE|\n",
      "+---------------------+----------------------+-----------------------------------+-----------------------+-----------------------------+-----------+-----+\n",
      "|             75791128|              13326028|                            2252158|                 381927|                      2723972|          0|   AL|\n",
      "|               187073|                 27082|                               5590|                   1479|                         8524|      35004|   AL|\n",
      "|                67341|                  8580|                               1703|                    543|                         2796|      35005|   AL|\n",
      "|                34951|                  4712|                                752|                    307|                          874|      35006|   AL|\n",
      "|               455626|                 70623|                              14134|                   3182|                        21371|      35007|   AL|\n",
      "|               231564|                 38102|                               6280|                   1393|                         8614|      35010|   AL|\n",
      "|                44471|                  6583|                               1237|                    274|                         1589|      35014|   AL|\n",
      "|               233169|                 35916|                               5156|                   1441|                         7464|      35016|   AL|\n",
      "|                22056|                  2911|                                335|                    228|                          630|      35019|   AL|\n",
      "|               110972|                 13665|                               2648|                    980|                         3439|      35020|   AL|\n",
      "|               348919|                 53394|                              13258|                   1756|                        22491|      35022|   AL|\n",
      "|               282350|                 38922|                               7324|                   2085|                        11334|      35023|   AL|\n",
      "|                67940|                  9154|                               1318|                    670|                         1999|      35031|   AL|\n",
      "|                54100|                  9151|                               1419|                    345|                         1873|      35033|   AL|\n",
      "|                28922|                  4043|                                631|                    217|                          729|      35034|   AL|\n",
      "|                23162|                  4923|                                752|                    106|                          456|      35035|   AL|\n",
      "|               253218|                 37403|                               7553|                   2339|                        12124|      35040|   AL|\n",
      "|                61974|                  8697|                               1468|                    555|                         1931|      35042|   AL|\n",
      "|               296268|                 51672|                              11376|                   1706|                        17142|      35043|   AL|\n",
      "|                74312|                 10570|                               1826|                    561|                         2174|      35044|   AL|\n",
      "+---------------------+----------------------+-----------------------------------+-----------------------+-----------------------------+-----------+-----+\n",
      "only showing top 20 rows"
     ]
    }
   ],
   "source": [
    "incomeTaxTrimmedDF.show()"
   ]
  },
  {
   "cell_type": "code",
   "execution_count": 67,
   "metadata": {},
   "outputs": [
    {
     "name": "stdout",
     "output_type": "stream",
     "text": [
      "root\n",
      " |-- Taxable income amount: string (nullable = true)\n",
      " |-- Income tax amount [8] : string (nullable = true)\n",
      " |-- State and local income taxes amount: string (nullable = true)\n",
      " |-- Child tax credit amount: string (nullable = true)\n",
      " |-- Mortgage interest paid amount: string (nullable = true)\n",
      " |-- ZIPCODE_INT: integer (nullable = true)\n",
      " |-- STATE: string (nullable = true)"
     ]
    }
   ],
   "source": [
    "incomeTaxTrimmedDF.printSchema()"
   ]
  },
  {
   "cell_type": "code",
   "execution_count": 68,
   "metadata": {},
   "outputs": [],
   "source": [
    "#When the ZIPCODE is 0 it's for the state"
   ]
  },
  {
   "cell_type": "code",
   "execution_count": 69,
   "metadata": {},
   "outputs": [
    {
     "name": "stdout",
     "output_type": "stream",
     "text": [
      "51\n",
      "+---------------------+----------------------+-----------------------------------+-----------------------+-----------------------------+-----------+-----+\n",
      "|Taxable income amount|Income tax amount [8] |State and local income taxes amount|Child tax credit amount|Mortgage interest paid amount|ZIPCODE_INT|STATE|\n",
      "+---------------------+----------------------+-----------------------------------+-----------------------+-----------------------------+-----------+-----+\n",
      "|             75791128|              13326028|                            2252158|                 381927|                      2723972|          0|   AL|\n",
      "|             17591171|               3243514|                              21626|                  76038|                       621580|          0|   AK|\n",
      "|            124407183|              22819159|                            3624546|                 575391|                      5750666|          0|   AZ|\n",
      "|             45181798|               7990550|                            1840761|                 241357|                      1240550|          0|   AR|\n",
      "|            990565154|             210438107|                           80158997|                3073597|                     53141080|          0|   CA|\n",
      "|            143855538|              27673010|                            5394387|                 499940|                      6858342|          0|   CO|\n",
      "|            121225699|              26973470|                            8493526|                 252020|                      4503364|          0|   CT|\n",
      "|             20718395|               3752068|                             989304|                  76478|                      1016667|          0|   DE|\n",
      "|             24600283|               5579705|                            1811748|                  27195|                       986201|          0|   DC|\n",
      "|            432734326|              86355052|                            3193364|                1372129|                     13342816|          0|   FL|\n",
      "|            182460656|              34415556|                            8888331|                 772249|                      7979450|          0|   GA|\n",
      "|             29822694|               5144286|                            1592471|                 128000|                      1816229|          0|   HI|\n",
      "|             27832979|               4718961|                            1326306|                 191174|                      1237088|          0|   ID|\n",
      "|            319387608|              63792792|                           10529400|                1044953|                     10802971|          0|   IL|\n",
      "|            122017586|              21289192|                            4469645|                 659122|                      3456236|          0|   IN|\n",
      "|             61289854|              10382532|                            2680247|                 329745|                      1761818|          0|   IA|\n",
      "|             58241506|              10526553|                            1745302|                 296115|                      1584492|          0|   KS|\n",
      "|             69582798|              11915833|                            3659489|                 385495|                      2319935|          0|   KY|\n",
      "|             77265841|              14306600|                            2094327|                 357973|                      2389675|          0|   LA|\n",
      "|             25269385|               4280419|                            1168173|                 105797|                       927177|          0|   ME|\n",
      "+---------------------+----------------------+-----------------------------------+-----------------------+-----------------------------+-----------+-----+\n",
      "only showing top 20 rows"
     ]
    }
   ],
   "source": [
    "incomeTaxTrimmedStatesDF = incomeTaxTrimmedDF.where(incomeTaxTrimmedDF.ZIPCODE_INT == 0)\n",
    "print(incomeTaxTrimmedDF.where(incomeTaxTrimmedDF.ZIPCODE_INT == 0).count())\n",
    "incomeTaxTrimmedStatesDF.show()"
   ]
  },
  {
   "cell_type": "code",
   "execution_count": 70,
   "metadata": {},
   "outputs": [],
   "source": [
    "#Separate data for zipcodes into it's own dataframe"
   ]
  },
  {
   "cell_type": "code",
   "execution_count": 71,
   "metadata": {},
   "outputs": [
    {
     "name": "stdout",
     "output_type": "stream",
     "text": [
      "29923\n",
      "+---------------------+----------------------+-----------------------------------+-----------------------+-----------------------------+-----------+-----+\n",
      "|Taxable income amount|Income tax amount [8] |State and local income taxes amount|Child tax credit amount|Mortgage interest paid amount|ZIPCODE_INT|STATE|\n",
      "+---------------------+----------------------+-----------------------------------+-----------------------+-----------------------------+-----------+-----+\n",
      "|               187073|                 27082|                               5590|                   1479|                         8524|      35004|   AL|\n",
      "|                67341|                  8580|                               1703|                    543|                         2796|      35005|   AL|\n",
      "|                34951|                  4712|                                752|                    307|                          874|      35006|   AL|\n",
      "|               455626|                 70623|                              14134|                   3182|                        21371|      35007|   AL|\n",
      "|               231564|                 38102|                               6280|                   1393|                         8614|      35010|   AL|\n",
      "|                44471|                  6583|                               1237|                    274|                         1589|      35014|   AL|\n",
      "|               233169|                 35916|                               5156|                   1441|                         7464|      35016|   AL|\n",
      "|                22056|                  2911|                                335|                    228|                          630|      35019|   AL|\n",
      "|               110972|                 13665|                               2648|                    980|                         3439|      35020|   AL|\n",
      "|               348919|                 53394|                              13258|                   1756|                        22491|      35022|   AL|\n",
      "|               282350|                 38922|                               7324|                   2085|                        11334|      35023|   AL|\n",
      "|                67940|                  9154|                               1318|                    670|                         1999|      35031|   AL|\n",
      "|                54100|                  9151|                               1419|                    345|                         1873|      35033|   AL|\n",
      "|                28922|                  4043|                                631|                    217|                          729|      35034|   AL|\n",
      "|                23162|                  4923|                                752|                    106|                          456|      35035|   AL|\n",
      "|               253218|                 37403|                               7553|                   2339|                        12124|      35040|   AL|\n",
      "|                61974|                  8697|                               1468|                    555|                         1931|      35042|   AL|\n",
      "|               296268|                 51672|                              11376|                   1706|                        17142|      35043|   AL|\n",
      "|                74312|                 10570|                               1826|                    561|                         2174|      35044|   AL|\n",
      "|               152562|                 22930|                               3780|                   1310|                         4642|      35045|   AL|\n",
      "+---------------------+----------------------+-----------------------------------+-----------------------+-----------------------------+-----------+-----+\n",
      "only showing top 20 rows"
     ]
    }
   ],
   "source": [
    "incomeTaxTrimmedZipCodesDF = incomeTaxTrimmedDF.where(incomeTaxTrimmedDF.ZIPCODE_INT > 0)\n",
    "print(incomeTaxTrimmedDF.where(incomeTaxTrimmedDF.ZIPCODE_INT > 0).count())\n",
    "incomeTaxTrimmedZipCodesDF.show()"
   ]
  },
  {
   "cell_type": "code",
   "execution_count": 72,
   "metadata": {},
   "outputs": [],
   "source": [
    "#Below is optional work to show the writing of Data into HIVE.\n",
    "#For this project I will be using the dataframes above but let this is as an alternaitve approach. "
   ]
  },
  {
   "cell_type": "markdown",
   "metadata": {},
   "source": [
    "## Create table in Hive and Save Data from Spark DataFRame into Hive"
   ]
  },
  {
   "cell_type": "code",
   "execution_count": 73,
   "metadata": {},
   "outputs": [
    {
     "name": "stderr",
     "output_type": "stream",
     "text": [
      "'Table `cust_complains`.`sample_cust_complaints` already exists.;'\n",
      "Traceback (most recent call last):\n",
      "  File \"/usr/lib/spark/python/lib/pyspark.zip/pyspark/sql/readwriter.py\", line 775, in saveAsTable\n",
      "    self._jwrite.saveAsTable(name)\n",
      "  File \"/usr/lib/spark/python/lib/py4j-0.10.7-src.zip/py4j/java_gateway.py\", line 1257, in __call__\n",
      "    answer, self.gateway_client, self.target_id, self.name)\n",
      "  File \"/usr/lib/spark/python/lib/pyspark.zip/pyspark/sql/utils.py\", line 69, in deco\n",
      "    raise AnalysisException(s.split(': ', 1)[1], stackTrace)\n",
      "pyspark.sql.utils.AnalysisException: 'Table `cust_complains`.`sample_cust_complaints` already exists.;'\n",
      "\n"
     ]
    }
   ],
   "source": [
    "complaintsDF.write.saveAsTable(\"cust_complains.sample_cust_complaints\")"
   ]
  },
  {
   "cell_type": "code",
   "execution_count": 74,
   "metadata": {},
   "outputs": [
    {
     "name": "stderr",
     "output_type": "stream",
     "text": [
      "'Table `cust_complains`.`county_demographic_data` already exists.;'\n",
      "Traceback (most recent call last):\n",
      "  File \"/usr/lib/spark/python/lib/pyspark.zip/pyspark/sql/readwriter.py\", line 775, in saveAsTable\n",
      "    self._jwrite.saveAsTable(name)\n",
      "  File \"/usr/lib/spark/python/lib/py4j-0.10.7-src.zip/py4j/java_gateway.py\", line 1257, in __call__\n",
      "    answer, self.gateway_client, self.target_id, self.name)\n",
      "  File \"/usr/lib/spark/python/lib/pyspark.zip/pyspark/sql/utils.py\", line 69, in deco\n",
      "    raise AnalysisException(s.split(': ', 1)[1], stackTrace)\n",
      "pyspark.sql.utils.AnalysisException: 'Table `cust_complains`.`county_demographic_data` already exists.;'\n",
      "\n"
     ]
    }
   ],
   "source": [
    "countyDataDF.write.saveAsTable(\"cust_complains.county_demographic_data\")"
   ]
  },
  {
   "cell_type": "code",
   "execution_count": 75,
   "metadata": {},
   "outputs": [
    {
     "name": "stderr",
     "output_type": "stream",
     "text": [
      "'Table `cust_complains`.`zip_code_to_county` already exists.;'\n",
      "Traceback (most recent call last):\n",
      "  File \"/usr/lib/spark/python/lib/pyspark.zip/pyspark/sql/readwriter.py\", line 775, in saveAsTable\n",
      "    self._jwrite.saveAsTable(name)\n",
      "  File \"/usr/lib/spark/python/lib/py4j-0.10.7-src.zip/py4j/java_gateway.py\", line 1257, in __call__\n",
      "    answer, self.gateway_client, self.target_id, self.name)\n",
      "  File \"/usr/lib/spark/python/lib/pyspark.zip/pyspark/sql/utils.py\", line 69, in deco\n",
      "    raise AnalysisException(s.split(': ', 1)[1], stackTrace)\n",
      "pyspark.sql.utils.AnalysisException: 'Table `cust_complains`.`zip_code_to_county` already exists.;'\n",
      "\n"
     ]
    }
   ],
   "source": [
    "zipCodeDF.write.saveAsTable(\"cust_complains.zip_code_to_county\")"
   ]
  },
  {
   "cell_type": "code",
   "execution_count": 76,
   "metadata": {},
   "outputs": [
    {
     "name": "stderr",
     "output_type": "stream",
     "text": [
      "'Table `cust_complains`.`income_tax_data` already exists.;'\n",
      "Traceback (most recent call last):\n",
      "  File \"/usr/lib/spark/python/lib/pyspark.zip/pyspark/sql/readwriter.py\", line 775, in saveAsTable\n",
      "    self._jwrite.saveAsTable(name)\n",
      "  File \"/usr/lib/spark/python/lib/py4j-0.10.7-src.zip/py4j/java_gateway.py\", line 1257, in __call__\n",
      "    answer, self.gateway_client, self.target_id, self.name)\n",
      "  File \"/usr/lib/spark/python/lib/pyspark.zip/pyspark/sql/utils.py\", line 69, in deco\n",
      "    raise AnalysisException(s.split(': ', 1)[1], stackTrace)\n",
      "pyspark.sql.utils.AnalysisException: 'Table `cust_complains`.`income_tax_data` already exists.;'\n",
      "\n"
     ]
    }
   ],
   "source": [
    "incomeTaxDF.write.saveAsTable(\"cust_complains.income_tax_data\")"
   ]
  },
  {
   "cell_type": "code",
   "execution_count": 77,
   "metadata": {},
   "outputs": [
    {
     "name": "stderr",
     "output_type": "stream",
     "text": [
      "'Table `cust_complains`.`income_tax_fields` already exists.;'\n",
      "Traceback (most recent call last):\n",
      "  File \"/usr/lib/spark/python/lib/pyspark.zip/pyspark/sql/readwriter.py\", line 775, in saveAsTable\n",
      "    self._jwrite.saveAsTable(name)\n",
      "  File \"/usr/lib/spark/python/lib/py4j-0.10.7-src.zip/py4j/java_gateway.py\", line 1257, in __call__\n",
      "    answer, self.gateway_client, self.target_id, self.name)\n",
      "  File \"/usr/lib/spark/python/lib/pyspark.zip/pyspark/sql/utils.py\", line 69, in deco\n",
      "    raise AnalysisException(s.split(': ', 1)[1], stackTrace)\n",
      "pyspark.sql.utils.AnalysisException: 'Table `cust_complains`.`income_tax_fields` already exists.;'\n",
      "\n"
     ]
    }
   ],
   "source": [
    "incomeTaxFieldsDF.write.saveAsTable(\"cust_complains.income_tax_fields\")"
   ]
  },
  {
   "cell_type": "code",
   "execution_count": 78,
   "metadata": {},
   "outputs": [
    {
     "name": "stdout",
     "output_type": "stream",
     "text": [
      "+--------------+--------------------+-----------+\n",
      "|      database|           tableName|isTemporary|\n",
      "+--------------+--------------------+-----------+\n",
      "|cust_complains|county_demographi...|      false|\n",
      "|cust_complains|     income_tax_data|      false|\n",
      "|cust_complains|   income_tax_fields|      false|\n",
      "|cust_complains|sample_cust_compl...|      false|\n",
      "|cust_complains|  zip_code_to_county|      false|\n",
      "|              |  complaints_trimmed|       true|\n",
      "+--------------+--------------------+-----------+"
     ]
    }
   ],
   "source": [
    "spark.sql(\"show tables in cust_complains\").show()"
   ]
  },
  {
   "cell_type": "code",
   "execution_count": 79,
   "metadata": {},
   "outputs": [],
   "source": [
    "#Let's verify what the tables look like inside of HIVE"
   ]
  },
  {
   "cell_type": "code",
   "execution_count": 80,
   "metadata": {},
   "outputs": [
    {
     "name": "stdout",
     "output_type": "stream",
     "text": [
      "+--------------------+--------------------+-------+\n",
      "|            col_name|           data_type|comment|\n",
      "+--------------------+--------------------+-------+\n",
      "|       date_received|              string|   null|\n",
      "|             product|              string|   null|\n",
      "|         sub_product|              string|   null|\n",
      "|               issue|              string|   null|\n",
      "|           sub_issue|              string|   null|\n",
      "|consumer_complain...|              string|   null|\n",
      "|company_public_re...|              string|   null|\n",
      "|             company|              string|   null|\n",
      "|               state|              string|   null|\n",
      "|            zip_code|              string|   null|\n",
      "|                tags|              string|   null|\n",
      "|consumer_consent_...|              string|   null|\n",
      "|       submitted_via|              string|   null|\n",
      "|date_sent_to_company|              string|   null|\n",
      "|    company_response|              string|   null|\n",
      "|     timely_response|              string|   null|\n",
      "|   consumer_disputed|              string|   null|\n",
      "|        complaint_id|              string|   null|\n",
      "|                    |                    |       |\n",
      "|# Detailed Table ...|                    |       |\n",
      "|            Database|      cust_complains|       |\n",
      "|               Table|sample_cust_compl...|       |\n",
      "|               Owner|                livy|       |\n",
      "|        Created Time|Mon May 06 00:36:...|       |\n",
      "|         Last Access|Thu Jan 01 00:00:...|       |\n",
      "|          Created By|         Spark 2.4.0|       |\n",
      "|                Type|             MANAGED|       |\n",
      "|            Provider|             parquet|       |\n",
      "|    Table Properties|[transient_lastDd...|       |\n",
      "|          Statistics|     238506250 bytes|       |\n",
      "|            Location|hdfs://ip-172-31-...|       |\n",
      "|       Serde Library|org.apache.hadoop...|       |\n",
      "|         InputFormat|org.apache.hadoop...|       |\n",
      "|        OutputFormat|org.apache.hadoop...|       |\n",
      "|  Storage Properties|[serialization.fo...|       |\n",
      "+--------------------+--------------------+-------+"
     ]
    }
   ],
   "source": [
    "#Lets see Hive Table information\n",
    "spark.sql(\"describe formatted cust_complains.sample_cust_complaints\").show(n=100)"
   ]
  },
  {
   "cell_type": "code",
   "execution_count": 81,
   "metadata": {},
   "outputs": [
    {
     "name": "stdout",
     "output_type": "stream",
     "text": [
      "+--------------------+--------------------+-------+\n",
      "|            col_name|           data_type|comment|\n",
      "+--------------------+--------------------+-------+\n",
      "|            CountyId|              string|   null|\n",
      "|               State|              string|   null|\n",
      "|              County|              string|   null|\n",
      "|            TotalPop|              string|   null|\n",
      "|                 Men|              string|   null|\n",
      "|               Women|              string|   null|\n",
      "|            Hispanic|              string|   null|\n",
      "|               White|              string|   null|\n",
      "|               Black|              string|   null|\n",
      "|              Native|              string|   null|\n",
      "|               Asian|              string|   null|\n",
      "|             Pacific|              string|   null|\n",
      "|    VotingAgeCitizen|              string|   null|\n",
      "|              Income|              string|   null|\n",
      "|           IncomeErr|              string|   null|\n",
      "|        IncomePerCap|              string|   null|\n",
      "|     IncomePerCapErr|              string|   null|\n",
      "|             Poverty|              string|   null|\n",
      "|        ChildPoverty|              string|   null|\n",
      "|        Professional|              string|   null|\n",
      "|             Service|              string|   null|\n",
      "|              Office|              string|   null|\n",
      "|        Construction|              string|   null|\n",
      "|          Production|              string|   null|\n",
      "|               Drive|              string|   null|\n",
      "|             Carpool|              string|   null|\n",
      "|             Transit|              string|   null|\n",
      "|                Walk|              string|   null|\n",
      "|         OtherTransp|              string|   null|\n",
      "|          WorkAtHome|              string|   null|\n",
      "|         MeanCommute|              string|   null|\n",
      "|            Employed|              string|   null|\n",
      "|         PrivateWork|              string|   null|\n",
      "|          PublicWork|              string|   null|\n",
      "|        SelfEmployed|              string|   null|\n",
      "|          FamilyWork|              string|   null|\n",
      "|        Unemployment|              string|   null|\n",
      "|                    |                    |       |\n",
      "|# Detailed Table ...|                    |       |\n",
      "|            Database|      cust_complains|       |\n",
      "|               Table|county_demographi...|       |\n",
      "|               Owner|                livy|       |\n",
      "|        Created Time|Mon May 06 00:36:...|       |\n",
      "|         Last Access|Thu Jan 01 00:00:...|       |\n",
      "|          Created By|         Spark 2.4.0|       |\n",
      "|                Type|             MANAGED|       |\n",
      "|            Provider|             parquet|       |\n",
      "|    Table Properties|[transient_lastDd...|       |\n",
      "|          Statistics|        306883 bytes|       |\n",
      "|            Location|hdfs://ip-172-31-...|       |\n",
      "|       Serde Library|org.apache.hadoop...|       |\n",
      "|         InputFormat|org.apache.hadoop...|       |\n",
      "|        OutputFormat|org.apache.hadoop...|       |\n",
      "|  Storage Properties|[serialization.fo...|       |\n",
      "+--------------------+--------------------+-------+"
     ]
    }
   ],
   "source": [
    "spark.sql(\"describe formatted cust_complains.county_demographic_data\").show(n=100)"
   ]
  },
  {
   "cell_type": "code",
   "execution_count": 82,
   "metadata": {},
   "outputs": [
    {
     "name": "stdout",
     "output_type": "stream",
     "text": [
      "+--------------------+--------------------+-------+\n",
      "|            col_name|           data_type|comment|\n",
      "+--------------------+--------------------+-------+\n",
      "|                 ZIP|              string|   null|\n",
      "|          COUNTYNAME|              string|   null|\n",
      "|               STATE|              string|   null|\n",
      "|          STCOUNTYFP|              string|   null|\n",
      "|             CLASSFP|              string|   null|\n",
      "|                    |                    |       |\n",
      "|# Detailed Table ...|                    |       |\n",
      "|            Database|      cust_complains|       |\n",
      "|               Table|  zip_code_to_county|       |\n",
      "|               Owner|                livy|       |\n",
      "|        Created Time|Mon May 06 00:36:...|       |\n",
      "|         Last Access|Thu Jan 01 00:00:...|       |\n",
      "|          Created By|         Spark 2.4.0|       |\n",
      "|                Type|             MANAGED|       |\n",
      "|            Provider|             parquet|       |\n",
      "|    Table Properties|[transient_lastDd...|       |\n",
      "|          Statistics|        336287 bytes|       |\n",
      "|            Location|hdfs://ip-172-31-...|       |\n",
      "|       Serde Library|org.apache.hadoop...|       |\n",
      "|         InputFormat|org.apache.hadoop...|       |\n",
      "|        OutputFormat|org.apache.hadoop...|       |\n",
      "|  Storage Properties|[serialization.fo...|       |\n",
      "+--------------------+--------------------+-------+"
     ]
    }
   ],
   "source": [
    "spark.sql(\"describe formatted cust_complains.zip_code_to_county\").show(n=100)"
   ]
  },
  {
   "cell_type": "code",
   "execution_count": 83,
   "metadata": {},
   "outputs": [
    {
     "name": "stdout",
     "output_type": "stream",
     "text": [
      "+----------+---------+-------+\n",
      "|  col_name|data_type|comment|\n",
      "+----------+---------+-------+\n",
      "| STATEFIPS|   string|   null|\n",
      "|     STATE|   string|   null|\n",
      "|   ZIPCODE|   string|   null|\n",
      "|  AGI_STUB|   string|   null|\n",
      "|        N1|   string|   null|\n",
      "|     MARS1|   string|   null|\n",
      "|     MARS2|   string|   null|\n",
      "|     MARS4|   string|   null|\n",
      "|      PREP|   string|   null|\n",
      "|        N2|   string|   null|\n",
      "|    NUMDEP|   string|   null|\n",
      "|TOTAL_VITA|   string|   null|\n",
      "|      VITA|   string|   null|\n",
      "|       TCE|   string|   null|\n",
      "|  VITA_EIC|   string|   null|\n",
      "|       RAL|   string|   null|\n",
      "|       RAC|   string|   null|\n",
      "|   ELDERLY|   string|   null|\n",
      "|    A00100|   string|   null|\n",
      "|    N02650|   string|   null|\n",
      "|    A02650|   string|   null|\n",
      "|    N00200|   string|   null|\n",
      "|    A00200|   string|   null|\n",
      "|    N00300|   string|   null|\n",
      "|    A00300|   string|   null|\n",
      "|    N00600|   string|   null|\n",
      "|    A00600|   string|   null|\n",
      "|    N00650|   string|   null|\n",
      "|    A00650|   string|   null|\n",
      "|    N00700|   string|   null|\n",
      "|    A00700|   string|   null|\n",
      "|    N00900|   string|   null|\n",
      "|    A00900|   string|   null|\n",
      "|    N01000|   string|   null|\n",
      "|    A01000|   string|   null|\n",
      "|    N01400|   string|   null|\n",
      "|    A01400|   string|   null|\n",
      "|    N01700|   string|   null|\n",
      "|    A01700|   string|   null|\n",
      "|      SCHF|   string|   null|\n",
      "|    N02300|   string|   null|\n",
      "|    A02300|   string|   null|\n",
      "|    N02500|   string|   null|\n",
      "|    A02500|   string|   null|\n",
      "|    N26270|   string|   null|\n",
      "|    A26270|   string|   null|\n",
      "|    N02900|   string|   null|\n",
      "|    A02900|   string|   null|\n",
      "|    N03220|   string|   null|\n",
      "|    A03220|   string|   null|\n",
      "|    N03300|   string|   null|\n",
      "|    A03300|   string|   null|\n",
      "|    N03270|   string|   null|\n",
      "|    A03270|   string|   null|\n",
      "|    N03150|   string|   null|\n",
      "|    A03150|   string|   null|\n",
      "|    N03210|   string|   null|\n",
      "|    A03210|   string|   null|\n",
      "|    N03230|   string|   null|\n",
      "|    A03230|   string|   null|\n",
      "|    N03240|   string|   null|\n",
      "|    A03240|   string|   null|\n",
      "|    N04470|   string|   null|\n",
      "|    A04470|   string|   null|\n",
      "|    A00101|   string|   null|\n",
      "|    N17000|   string|   null|\n",
      "|    A17000|   string|   null|\n",
      "|    N18425|   string|   null|\n",
      "|    A18425|   string|   null|\n",
      "|    N18450|   string|   null|\n",
      "|    A18450|   string|   null|\n",
      "|    N18500|   string|   null|\n",
      "|    A18500|   string|   null|\n",
      "|    N18800|   string|   null|\n",
      "|    A18800|   string|   null|\n",
      "|    N18300|   string|   null|\n",
      "|    A18300|   string|   null|\n",
      "|    N19300|   string|   null|\n",
      "|    A19300|   string|   null|\n",
      "|    N19500|   string|   null|\n",
      "|    A19500|   string|   null|\n",
      "|    N19530|   string|   null|\n",
      "|    A19530|   string|   null|\n",
      "|    N19550|   string|   null|\n",
      "|    A19550|   string|   null|\n",
      "|    N19570|   string|   null|\n",
      "|    A19570|   string|   null|\n",
      "|    N19700|   string|   null|\n",
      "|    A19700|   string|   null|\n",
      "|    N20800|   string|   null|\n",
      "|    A20800|   string|   null|\n",
      "|    N21020|   string|   null|\n",
      "|    A21020|   string|   null|\n",
      "|    N04800|   string|   null|\n",
      "|    A04800|   string|   null|\n",
      "|    N05800|   string|   null|\n",
      "|    A05800|   string|   null|\n",
      "|    N09600|   string|   null|\n",
      "|    A09600|   string|   null|\n",
      "|    N05780|   string|   null|\n",
      "+----------+---------+-------+\n",
      "only showing top 100 rows"
     ]
    }
   ],
   "source": [
    "spark.sql(\"describe formatted cust_complains.income_tax_data\").show(n=100)"
   ]
  },
  {
   "cell_type": "code",
   "execution_count": 84,
   "metadata": {},
   "outputs": [
    {
     "name": "stdout",
     "output_type": "stream",
     "text": [
      "+--------------------+--------------------+-------+\n",
      "|            col_name|           data_type|comment|\n",
      "+--------------------+--------------------+-------+\n",
      "|       Variable_Name|              string|   null|\n",
      "|         Description|              string|   null|\n",
      "|          Value_Line|              string|   null|\n",
      "|                year|              string|   null|\n",
      "|                    |                    |       |\n",
      "|# Detailed Table ...|                    |       |\n",
      "|            Database|      cust_complains|       |\n",
      "|               Table|   income_tax_fields|       |\n",
      "|               Owner|                livy|       |\n",
      "|        Created Time|Mon May 06 00:36:...|       |\n",
      "|         Last Access|Thu Jan 01 00:00:...|       |\n",
      "|          Created By|         Spark 2.4.0|       |\n",
      "|                Type|             MANAGED|       |\n",
      "|            Provider|             parquet|       |\n",
      "|    Table Properties|[transient_lastDd...|       |\n",
      "|          Statistics|          4684 bytes|       |\n",
      "|            Location|hdfs://ip-172-31-...|       |\n",
      "|       Serde Library|org.apache.hadoop...|       |\n",
      "|         InputFormat|org.apache.hadoop...|       |\n",
      "|        OutputFormat|org.apache.hadoop...|       |\n",
      "|  Storage Properties|[serialization.fo...|       |\n",
      "+--------------------+--------------------+-------+"
     ]
    }
   ],
   "source": [
    "spark.sql(\"describe formatted cust_complains.income_tax_fields\").show(n=100)"
   ]
  },
  {
   "cell_type": "markdown",
   "metadata": {},
   "source": [
    "## Exploratory Analysis"
   ]
  },
  {
   "cell_type": "code",
   "execution_count": 85,
   "metadata": {
    "scrolled": true
   },
   "outputs": [
    {
     "name": "stdout",
     "output_type": "stream",
     "text": [
      "root\n",
      " |-- product: string (nullable = true)\n",
      " |-- sub_product: string (nullable = true)\n",
      " |-- issue: string (nullable = true)\n",
      " |-- company: string (nullable = true)\n",
      " |-- ZIP: string (nullable = true)\n",
      " |-- COUNTYNAME: string (nullable = true)\n",
      " |-- STATE: string (nullable = true)"
     ]
    }
   ],
   "source": [
    "joinType = \"inner\"\n",
    "joinExpression = complaintsTrimmedValidZipDf[\"zip_code\"] == zipCodeTrimmedDF[\"ZIP\"]\n",
    "df = complaintsTrimmedValidZipDf.join(zipCodeTrimmedDF, joinExpression, joinType).drop(complaintsTrimmedValidZipDf[\"state\"]).drop(complaintsTrimmedValidZipDf[\"zip_code\"])\n",
    "df.printSchema()"
   ]
  },
  {
   "cell_type": "code",
   "execution_count": 86,
   "metadata": {},
   "outputs": [
    {
     "name": "stdout",
     "output_type": "stream",
     "text": [
      "+--------------------+--------------------+--------------------+--------------------+--------+-----+\n",
      "|             product|         sub_product|               issue|             company|zip_code|state|\n",
      "+--------------------+--------------------+--------------------+--------------------+--------+-----+\n",
      "|         Credit card|                    |            Late fee|CAPITAL ONE FINAN...|   21206|   MD|\n",
      "|     Debt collection|Federal student loan|Communication tac...|Navient Solutions...|   60098|   IL|\n",
      "|    Credit reporting|                    |Incorrect informa...|       EQUIFAX, INC.|   02893|   RI|\n",
      "|     Debt collection|         Credit card|Improper contact ...|JPMORGAN CHASE & CO.|   33619|   FL|\n",
      "|Bank account or s...|    Checking account|Account opening, ...|      CITIBANK, N.A.|   84092|   UT|\n",
      "|            Mortgage|      Other mortgage|Loan modification...|OCWEN LOAN SERVIC...|        |   MD|\n",
      "|            Mortgage|Home equity loan ...|Loan servicing, p...|M&T BANK CORPORATION|        |   NY|\n",
      "|Bank account or s...|Other bank produc...|Account opening, ...|UNITED SERVICES A...|   89107|   NV|\n",
      "|    Credit reporting|                    |Incorrect informa...|       EQUIFAX, INC.|   19151|   PA|\n",
      "|    Credit reporting|                    |Incorrect informa...|       EQUIFAX, INC.|   38401|   TN|\n",
      "|         Credit card|                    |   Billing statement|      CITIBANK, N.A.|        |   WV|\n",
      "|            Mortgage|        FHA mortgage|Loan servicing, p...|BANK OF AMERICA, ...|   33312|   FL|\n",
      "|         Credit card|                    |   Transaction issue|JPMORGAN CHASE & CO.|   22556|   VA|\n",
      "|    Credit reporting|                    |Incorrect informa...|TRANSUNION INTERM...|   55422|   MN|\n",
      "|            Mortgage|        FHA mortgage|Application, orig...|AMERICAN FINANCIN...|        |   NC|\n",
      "|            Mortgage|Conventional adju...|Loan modification...|WELLS FARGO & COM...|        |   CA|\n",
      "|    Credit reporting|                    |Improper use of m...|TRANSUNION INTERM...|   92675|   CA|\n",
      "|     Debt collection|       I do not know|Cont'd attempts c...|Armor Systems Cor...|   60609|   IL|\n",
      "|         Credit card|                    |               Other|BANK OF AMERICA, ...|   48212|   MI|\n",
      "|            Mortgage|      Other mortgage|Loan modification...|WELLS FARGO & COM...|   07071|   NJ|\n",
      "+--------------------+--------------------+--------------------+--------------------+--------+-----+\n",
      "only showing top 20 rows"
     ]
    }
   ],
   "source": [
    "complaintsTrimmedValidZipDf.show()"
   ]
  },
  {
   "cell_type": "code",
   "execution_count": 87,
   "metadata": {},
   "outputs": [
    {
     "name": "stdout",
     "output_type": "stream",
     "text": [
      "+--------------------+--------------------+--------------------+--------------------+-----+-------------------+-----+\n",
      "|             product|         sub_product|               issue|             company|  ZIP|         COUNTYNAME|STATE|\n",
      "+--------------------+--------------------+--------------------+--------------------+-----+-------------------+-----+\n",
      "|         Credit card|                    |            Late fee|CAPITAL ONE FINAN...|21206|     Baltimore city|   MD|\n",
      "|         Credit card|                    |            Late fee|CAPITAL ONE FINAN...|21206|   Baltimore County|   MD|\n",
      "|     Debt collection|Federal student loan|Communication tac...|Navient Solutions...|60098|     McHenry County|   IL|\n",
      "|    Credit reporting|                    |Incorrect informa...|       EQUIFAX, INC.|02893|        Kent County|   RI|\n",
      "|     Debt collection|         Credit card|Improper contact ...|JPMORGAN CHASE & CO.|33619|Hillsborough County|   FL|\n",
      "|Bank account or s...|    Checking account|Account opening, ...|      CITIBANK, N.A.|84092|   Salt Lake County|   UT|\n",
      "|Bank account or s...|Other bank produc...|Account opening, ...|UNITED SERVICES A...|89107|       Clark County|   NV|\n",
      "|    Credit reporting|                    |Incorrect informa...|       EQUIFAX, INC.|19151|Philadelphia County|   PA|\n",
      "|    Credit reporting|                    |Incorrect informa...|       EQUIFAX, INC.|38401|  Williamson County|   TN|\n",
      "|    Credit reporting|                    |Incorrect informa...|       EQUIFAX, INC.|38401|       Maury County|   TN|\n",
      "|    Credit reporting|                    |Incorrect informa...|       EQUIFAX, INC.|38401|    Marshall County|   TN|\n",
      "|            Mortgage|        FHA mortgage|Loan servicing, p...|BANK OF AMERICA, ...|33312|     Broward County|   FL|\n",
      "|         Credit card|                    |   Transaction issue|JPMORGAN CHASE & CO.|22556|    Stafford County|   VA|\n",
      "|         Credit card|                    |   Transaction issue|JPMORGAN CHASE & CO.|22556|    Fauquier County|   VA|\n",
      "|    Credit reporting|                    |Incorrect informa...|TRANSUNION INTERM...|55422|    Hennepin County|   MN|\n",
      "|    Credit reporting|                    |Improper use of m...|TRANSUNION INTERM...|92675|      Orange County|   CA|\n",
      "|     Debt collection|       I do not know|Cont'd attempts c...|Armor Systems Cor...|60609|        Cook County|   IL|\n",
      "|         Credit card|                    |               Other|BANK OF AMERICA, ...|48212|       Wayne County|   MI|\n",
      "|            Mortgage|      Other mortgage|Loan modification...|WELLS FARGO & COM...|07071|      Bergen County|   NJ|\n",
      "|            Mortgage|Conventional fixe...|Loan servicing, p...|RoundPoint Mortga...|94547|Contra Costa County|   CA|\n",
      "+--------------------+--------------------+--------------------+--------------------+-----+-------------------+-----+\n",
      "only showing top 20 rows"
     ]
    }
   ],
   "source": [
    "df.show()"
   ]
  },
  {
   "cell_type": "code",
   "execution_count": 88,
   "metadata": {},
   "outputs": [
    {
     "name": "stdout",
     "output_type": "stream",
     "text": [
      "871641"
     ]
    }
   ],
   "source": [
    "df.count()"
   ]
  },
  {
   "cell_type": "code",
   "execution_count": 89,
   "metadata": {},
   "outputs": [
    {
     "name": "stdout",
     "output_type": "stream",
     "text": [
      "3220"
     ]
    }
   ],
   "source": [
    "countyDataTotalDf.count()"
   ]
  },
  {
   "cell_type": "code",
   "execution_count": 90,
   "metadata": {},
   "outputs": [
    {
     "name": "stdout",
     "output_type": "stream",
     "text": [
      "+--------+-----+----------------+--------+-----+------+--------+-----+-----+------+-----+-------+--------------+-----------+-----------+------------+-----------+-------------+\n",
      "|CountyId|State|          County|TotalPop|  Men| Women|Hispanic|White|Black|Native|Asian|Pacific|Total Hispanic|Total White|Total Black|Total Native|Total Asian|Total Pacific|\n",
      "+--------+-----+----------------+--------+-----+------+--------+-----+-----+------+-----+-------+--------------+-----------+-----------+------------+-----------+-------------+\n",
      "|    1001|   AL|  Autauga County|   55036|26899| 28137|     2.7| 75.4| 18.9|   0.3|  0.9|    0.0|        1486.0|    41497.0|    10402.0|       165.0|      495.0|          0.0|\n",
      "|    1003|   AL|  Baldwin County|  203360|99527|103833|     4.4| 83.1|  9.5|   0.8|  0.7|    0.0|        8948.0|   168992.0|    19319.0|      1627.0|     1424.0|          0.0|\n",
      "|    1005|   AL|  Barbour County|   26201|13976| 12225|     4.2| 45.7| 47.8|   0.2|  0.6|    0.0|        1100.0|    11974.0|    12524.0|        52.0|      157.0|          0.0|\n",
      "|    1007|   AL|     Bibb County|   22580|12251| 10329|     2.4| 74.6| 22.0|   0.4|  0.0|    0.0|         542.0|    16845.0|     4968.0|        90.0|        0.0|          0.0|\n",
      "|    1009|   AL|   Blount County|   57667|28490| 29177|     9.0| 87.4|  1.5|   0.3|  0.1|    0.0|        5190.0|    50401.0|      865.0|       173.0|       58.0|          0.0|\n",
      "|    1011|   AL|  Bullock County|   10478| 5616|  4862|     0.3| 21.6| 75.6|   1.0|  0.7|    0.0|          31.0|     2263.0|     7921.0|       105.0|       73.0|          0.0|\n",
      "|    1013|   AL|   Butler County|   20126| 9416| 10710|     0.3| 52.2| 44.7|   0.1|  1.1|    0.0|          60.0|    10506.0|     8996.0|        20.0|      221.0|          0.0|\n",
      "|    1015|   AL|  Calhoun County|  115527|55593| 59934|     3.6| 72.7| 20.4|   0.2|  1.0|    0.0|        4159.0|    83988.0|    23568.0|       231.0|     1155.0|          0.0|\n",
      "|    1017|   AL| Chambers County|   33895|16320| 17575|     2.2| 56.2| 39.3|   0.3|  1.0|    0.0|         746.0|    19049.0|    13321.0|       102.0|      339.0|          0.0|\n",
      "|    1019|   AL| Cherokee County|   25855|12862| 12993|     1.6| 91.8|  5.0|   0.5|  0.1|    0.0|         414.0|    23735.0|     1293.0|       129.0|       26.0|          0.0|\n",
      "|    1021|   AL|  Chilton County|   43805|21554| 22251|     7.7| 80.4|  9.5|   0.4|  0.4|    0.0|        3373.0|    35219.0|     4161.0|       175.0|      175.0|          0.0|\n",
      "|    1023|   AL|  Choctaw County|   13188| 6277|  6911|     0.5| 56.3| 42.1|   0.0|  0.1|    0.0|          66.0|     7425.0|     5552.0|         0.0|       13.0|          0.0|\n",
      "|    1025|   AL|   Clarke County|   24625|11649| 12976|     0.2| 53.0| 45.7|   0.1|  0.5|    0.1|          49.0|    13051.0|    11254.0|        25.0|      123.0|         25.0|\n",
      "|    1027|   AL|     Clay County|   13407| 6471|  6936|     3.1| 80.2| 14.7|   0.9|  0.0|    0.0|         416.0|    10752.0|     1971.0|       121.0|        0.0|          0.0|\n",
      "|    1029|   AL| Cleburne County|   14939| 7367|  7572|     2.4| 92.7|  2.8|   0.3|  0.5|    0.0|         359.0|    13848.0|      418.0|        45.0|       75.0|          0.0|\n",
      "|    1031|   AL|   Coffee County|   51073|25225| 25848|     6.7| 71.0| 17.1|   1.0|  1.3|    0.0|        3422.0|    36262.0|     8733.0|       511.0|      664.0|          0.0|\n",
      "|    1033|   AL|  Colbert County|   54435|26143| 28292|     2.4| 78.8| 15.9|   0.7|  0.5|    0.0|        1306.0|    42895.0|     8655.0|       381.0|      272.0|          0.0|\n",
      "|    1035|   AL|  Conecuh County|   12649| 6040|  6609|     1.8| 50.3| 46.3|   0.2|  0.0|    0.0|         228.0|     6362.0|     5856.0|        25.0|        0.0|          0.0|\n",
      "|    1037|   AL|    Coosa County|   10955| 5474|  5481|     0.1| 65.3| 33.2|   0.1|  0.0|    0.0|          11.0|     7154.0|     3637.0|        11.0|        0.0|          0.0|\n",
      "|    1039|   AL|Covington County|   37519|18133| 19386|     1.6| 83.5| 13.0|   0.3|  0.4|    0.0|         600.0|    31328.0|     4877.0|       113.0|      150.0|          0.0|\n",
      "+--------+-----+----------------+--------+-----+------+--------+-----+-----+------+-----+-------+--------------+-----------+-----------+------------+-----------+-------------+\n",
      "only showing top 20 rows"
     ]
    }
   ],
   "source": [
    "countyDataTotalDf.show()"
   ]
  },
  {
   "cell_type": "code",
   "execution_count": 91,
   "metadata": {},
   "outputs": [],
   "source": [
    "complaintsByCountyDF = df.groupby(\"COUNTYNAME\",\"STATE\").count().withColumnRenamed(\"count\", \"complaint total\")"
   ]
  },
  {
   "cell_type": "code",
   "execution_count": 92,
   "metadata": {},
   "outputs": [
    {
     "name": "stdout",
     "output_type": "stream",
     "text": [
      "2916"
     ]
    }
   ],
   "source": [
    "complaintsByCountyDF.count()"
   ]
  },
  {
   "cell_type": "code",
   "execution_count": 93,
   "metadata": {},
   "outputs": [
    {
     "name": "stdout",
     "output_type": "stream",
     "text": [
      "root\n",
      " |-- COUNTYNAME: string (nullable = true)\n",
      " |-- STATE: string (nullable = true)\n",
      " |-- complaint total: long (nullable = false)\n",
      " |-- CountyId: string (nullable = true)\n",
      " |-- County: string (nullable = true)\n",
      " |-- TotalPop: string (nullable = true)\n",
      " |-- Men: string (nullable = true)\n",
      " |-- Women: string (nullable = true)\n",
      " |-- Hispanic: string (nullable = true)\n",
      " |-- White: string (nullable = true)\n",
      " |-- Black: string (nullable = true)\n",
      " |-- Native: string (nullable = true)\n",
      " |-- Asian: string (nullable = true)\n",
      " |-- Pacific: string (nullable = true)\n",
      " |-- Total Hispanic: double (nullable = true)\n",
      " |-- Total White: double (nullable = true)\n",
      " |-- Total Black: double (nullable = true)\n",
      " |-- Total Native: double (nullable = true)\n",
      " |-- Total Asian: double (nullable = true)\n",
      " |-- Total Pacific: double (nullable = true)"
     ]
    }
   ],
   "source": [
    "joinType = \"inner\"\n",
    "joinExpression = (complaintsByCountyDF[\"COUNTYNAME\"] == countyDataTotalDf[\"County\"]) & (complaintsByCountyDF[\"STATE\"] == countyDataTotalDf[\"State\"])\n",
    "df2 = complaintsByCountyDF.join(countyDataTotalDf, joinExpression, joinType).drop(countyDataTotalDf[\"State\"])\n",
    "df2.printSchema()"
   ]
  },
  {
   "cell_type": "code",
   "execution_count": 94,
   "metadata": {},
   "outputs": [
    {
     "name": "stdout",
     "output_type": "stream",
     "text": [
      "+-----+--------+--------------------+--------+--------------+\n",
      "|STATE|CountyId|              County|TotalPop|Total Hispanic|\n",
      "+-----+--------+--------------------+--------+--------------+\n",
      "|   CA|    6019|       Fresno County|  971616|      509127.0|\n",
      "|   KS|   20149| Pottawatomie County|   23188|        1229.0|\n",
      "|   IL|   17203|     Woodford County|   38942|         662.0|\n",
      "|   LA|   22057|    Lafourche Parish|   98112|        4317.0|\n",
      "|   KS|   20151|        Pratt County|    9670|         696.0|\n",
      "|   MS|   28107|       Panola County|   34229|         582.0|\n",
      "|   UT|   49047|       Uintah County|   36343|        2980.0|\n",
      "|   IA|   19129|        Mills County|   14933|         418.0|\n",
      "|   MI|   26165|      Wexford County|   32915|         592.0|\n",
      "|   NC|   37073|        Gates County|   11601|          81.0|\n",
      "|   MO|   29151|        Osage County|   13610|         109.0|\n",
      "|   MO|   29105|      Laclede County|   35488|         816.0|\n",
      "|   TN|   47013|     Campbell County|   39824|         478.0|\n",
      "|   MT|   30037|Golden Valley County|     747|          65.0|\n",
      "|   IL|   17033|     Crawford County|   19214|         557.0|\n",
      "|   MT|   30009|       Carbon County|   10466|         251.0|\n",
      "|   MS|   28125|      Sharkey County|    4631|          28.0|\n",
      "|   AR|    5037|        Cross County|   17164|         326.0|\n",
      "|   GA|   13067|         Cobb County|  739072|       94601.0|\n",
      "|   MO|   29109|     Lawrence County|   38131|        2745.0|\n",
      "+-----+--------+--------------------+--------+--------------+\n",
      "only showing top 20 rows"
     ]
    }
   ],
   "source": [
    "df2.select([\"STATE\",\"CountyId\",\"County\",\"TotalPop\",\"Total Hispanic\"]).show()"
   ]
  },
  {
   "cell_type": "code",
   "execution_count": 95,
   "metadata": {},
   "outputs": [
    {
     "name": "stdout",
     "output_type": "stream",
     "text": [
      "2894"
     ]
    }
   ],
   "source": [
    "df2.count()"
   ]
  },
  {
   "cell_type": "code",
   "execution_count": 96,
   "metadata": {},
   "outputs": [
    {
     "name": "stdout",
     "output_type": "stream",
     "text": [
      "+---------------+-----+---------------+--------+---------------+--------+-----+-----+--------+-----+-----+------+-----+-------+--------------+-----------+-----------+------------+-----------+-------------+\n",
      "|     COUNTYNAME|STATE|complaint total|CountyId|         County|TotalPop|  Men|Women|Hispanic|White|Black|Native|Asian|Pacific|Total Hispanic|Total White|Total Black|Total Native|Total Asian|Total Pacific|\n",
      "+---------------+-----+---------------+--------+---------------+--------+-----+-----+--------+-----+-----+------+-----+-------+--------------+-----------+-----------+------------+-----------+-------------+\n",
      "|Woodford County|   IL|             70|   17203|Woodford County|   38942|19374|19568|     1.7| 95.7|  0.6|   0.1|  0.8|    0.0|         662.0|    37267.0|      234.0|        39.0|      312.0|          0.0|\n",
      "+---------------+-----+---------------+--------+---------------+--------+-----+-----+--------+-----+-----+------+-----+-------+--------------+-----------+-----------+------------+-----------+-------------+\n",
      "only showing top 1 row"
     ]
    }
   ],
   "source": [
    "df2.show(1)"
   ]
  },
  {
   "cell_type": "code",
   "execution_count": 97,
   "metadata": {},
   "outputs": [],
   "source": [
    "populatonTotals = df2.groupby(\"STATE\").agg(sum(\"TotalPop\").alias(\"Total Pop\"),\n",
    "                        sum(\"Total Hispanic\").alias(\"Hispanic Pop\"),\n",
    "                        sum(\"Total White\").alias(\"White Pop\"),\n",
    "                        sum(\"Total Black\").alias(\"Black Pop\"),\n",
    "                        sum(\"Total Native\").alias(\"Native Pop\"),\n",
    "                        sum(\"Total Asian\").alias(\"Asian Pop\"),\n",
    "                        sum(\"Total Pacific\").alias(\"Pacific Pop\"), \n",
    "                        sum(\"complaint total\").alias(\"Complaints Total\"))"
   ]
  },
  {
   "cell_type": "code",
   "execution_count": 98,
   "metadata": {
    "scrolled": false
   },
   "outputs": [],
   "source": [
    "columns = [\"STATE\",\"White %\",\"Hispanic %\",\"Black %\",\"Native %\",\"Asian %\",\"Pacific %\",\"Complaints Total\"]\n",
    "\n",
    "populatonTotals = populatonTotals.withColumn(\"White %\", round((populatonTotals[\"White Pop\"] / populatonTotals[\"Total Pop\"]), 2))\\\n",
    ".withColumn(\"Hispanic %\", round((populatonTotals[\"Hispanic Pop\"] / populatonTotals[\"Total Pop\"]), 2))\\\n",
    ".withColumn(\"Black %\", round((populatonTotals[\"Black Pop\"] / populatonTotals[\"Total Pop\"]), 2))\\\n",
    ".withColumn(\"Native %\", round((populatonTotals[\"Native Pop\"] / populatonTotals[\"Total Pop\"]), 2))\\\n",
    ".withColumn(\"Asian %\", round((populatonTotals[\"Asian Pop\"] / populatonTotals[\"Total Pop\"]), 2))\\\n",
    ".withColumn(\"Pacific %\", round((populatonTotals[\"Pacific Pop\"] / populatonTotals[\"Total Pop\"]), 2)).select(columns)"
   ]
  },
  {
   "cell_type": "code",
   "execution_count": 99,
   "metadata": {},
   "outputs": [
    {
     "name": "stdout",
     "output_type": "stream",
     "text": [
      "+-----+-------+----------+-------+--------+-------+---------+----------------+\n",
      "|STATE|White %|Hispanic %|Black %|Native %|Asian %|Pacific %|Complaints Total|\n",
      "+-----+-------+----------+-------+--------+-------+---------+----------------+\n",
      "|   SC|   0.64|      0.05|   0.27|     0.0|   0.01|      0.0|           13821|\n",
      "|   AZ|   0.56|      0.31|   0.04|    0.04|   0.03|      0.0|           16735|\n",
      "|   LA|   0.59|      0.05|   0.32|    0.01|   0.02|      0.0|            9082|\n",
      "|   MN|   0.81|      0.05|   0.06|    0.01|   0.05|      0.0|            8456|\n",
      "|   NJ|   0.56|       0.2|   0.13|     0.0|   0.09|      0.0|           31243|\n",
      "|   DC|   0.36|      0.11|   0.47|     0.0|   0.04|      0.0|            3933|\n",
      "|   OR|   0.76|      0.13|   0.02|    0.01|   0.04|      0.0|            9583|\n",
      "|   VA|   0.63|      0.09|   0.19|     0.0|   0.06|      0.0|           32700|\n",
      "|   RI|   0.73|      0.15|   0.05|     0.0|   0.03|      0.0|            2120|\n",
      "|   KY|   0.85|      0.04|   0.08|     0.0|   0.01|      0.0|            7244|\n",
      "|   WY|   0.84|       0.1|   0.01|    0.02|   0.01|      0.0|             460|\n",
      "|   NH|   0.91|      0.03|   0.01|     0.0|   0.02|      0.0|            2006|\n",
      "|   MI|   0.75|      0.05|   0.14|     0.0|   0.03|      0.0|           19435|\n",
      "|   NV|    0.5|      0.28|   0.08|    0.01|   0.08|     0.01|            9751|\n",
      "|   WI|   0.82|      0.07|   0.06|    0.01|   0.03|      0.0|            8538|\n",
      "|   ID|   0.82|      0.12|   0.01|    0.01|   0.01|      0.0|            2559|\n",
      "|   CA|   0.38|      0.39|   0.06|     0.0|   0.14|      0.0|          120248|\n",
      "|   NE|   0.79|      0.11|   0.05|     0.0|   0.02|      0.0|            1757|\n",
      "|   CT|   0.68|      0.15|    0.1|     0.0|   0.04|      0.0|            7492|\n",
      "|   MT|   0.86|      0.04|    0.0|    0.06|   0.01|      0.0|            1052|\n",
      "+-----+-------+----------+-------+--------+-------+---------+----------------+\n",
      "only showing top 20 rows"
     ]
    }
   ],
   "source": [
    "populatonTotals.show()"
   ]
  },
  {
   "cell_type": "code",
   "execution_count": 100,
   "metadata": {},
   "outputs": [],
   "source": [
    "#Let the analysis begin. Let's look at the states with the highest complaints."
   ]
  },
  {
   "cell_type": "code",
   "execution_count": 101,
   "metadata": {},
   "outputs": [
    {
     "name": "stdout",
     "output_type": "stream",
     "text": [
      "+-----+-------+----------+-------+--------+-------+---------+----------------+\n",
      "|STATE|White %|Hispanic %|Black %|Native %|Asian %|Pacific %|Complaints Total|\n",
      "+-----+-------+----------+-------+--------+-------+---------+----------------+\n",
      "|   CA|   0.38|      0.39|   0.06|     0.0|   0.14|      0.0|          120248|\n",
      "|   TX|   0.43|      0.39|   0.12|     0.0|   0.04|      0.0|           79343|\n",
      "|   FL|   0.55|      0.25|   0.15|     0.0|   0.03|      0.0|           77721|\n",
      "|   GA|   0.54|      0.09|   0.31|     0.0|   0.04|      0.0|           67321|\n",
      "|   NY|   0.56|      0.19|   0.14|     0.0|   0.08|      0.0|           55542|\n",
      "|   IL|   0.62|      0.17|   0.14|     0.0|   0.05|      0.0|           35045|\n",
      "|   NC|   0.64|      0.09|   0.21|    0.01|   0.03|      0.0|           33982|\n",
      "|   VA|   0.63|      0.09|   0.19|     0.0|   0.06|      0.0|           32700|\n",
      "|   NJ|   0.56|       0.2|   0.13|     0.0|   0.09|      0.0|           31243|\n",
      "|   OH|    0.8|      0.04|   0.12|     0.0|   0.02|      0.0|           28097|\n",
      "|   MD|   0.52|       0.1|   0.29|     0.0|   0.06|      0.0|           26695|\n",
      "|   PA|   0.77|      0.07|   0.11|     0.0|   0.03|      0.0|           24160|\n",
      "|   MI|   0.75|      0.05|   0.14|     0.0|   0.03|      0.0|           19435|\n",
      "|   CO|   0.69|      0.21|   0.04|    0.01|   0.03|      0.0|           17582|\n",
      "|   AZ|   0.56|      0.31|   0.04|    0.04|   0.03|      0.0|           16735|\n",
      "|   TN|   0.74|      0.05|   0.17|     0.0|   0.02|      0.0|           15983|\n",
      "|   WA|    0.7|      0.12|   0.04|    0.01|   0.08|     0.01|           15695|\n",
      "|   SC|   0.64|      0.05|   0.27|     0.0|   0.01|      0.0|           13821|\n",
      "|   MA|   0.73|      0.11|   0.07|     0.0|   0.06|      0.0|           12712|\n",
      "|   MO|    0.8|      0.04|   0.12|     0.0|   0.02|      0.0|           11156|\n",
      "+-----+-------+----------+-------+--------+-------+---------+----------------+\n",
      "only showing top 20 rows"
     ]
    }
   ],
   "source": [
    "populatonTotals.orderBy(\"Complaints Total\", ascending=False).show()"
   ]
  },
  {
   "cell_type": "code",
   "execution_count": 102,
   "metadata": {},
   "outputs": [
    {
     "name": "stdout",
     "output_type": "stream",
     "text": [
      "+-----+-------+----------+-------+--------+-------+---------+----------------+\n",
      "|STATE|White %|Hispanic %|Black %|Native %|Asian %|Pacific %|Complaints Total|\n",
      "+-----+-------+----------+-------+--------+-------+---------+----------------+\n",
      "|   ME|   0.94|      0.02|   0.01|    0.01|   0.01|      0.0|            1037|\n",
      "|   VT|   0.93|      0.02|   0.01|     0.0|   0.02|      0.0|             442|\n",
      "|   WV|   0.92|      0.01|   0.04|     0.0|   0.01|      0.0|            1413|\n",
      "|   NH|   0.91|      0.03|   0.01|     0.0|   0.02|      0.0|            2006|\n",
      "|   MT|   0.86|      0.04|    0.0|    0.06|   0.01|      0.0|            1052|\n",
      "|   ND|   0.86|      0.03|   0.02|    0.05|   0.01|      0.0|             548|\n",
      "|   IA|   0.86|      0.06|   0.04|     0.0|   0.02|      0.0|            2611|\n",
      "|   SD|   0.85|      0.04|   0.02|    0.05|   0.02|      0.0|             892|\n",
      "|   KY|   0.85|      0.04|   0.08|     0.0|   0.01|      0.0|            7244|\n",
      "|   WY|   0.84|       0.1|   0.01|    0.02|   0.01|      0.0|             460|\n",
      "|   ID|   0.82|      0.12|   0.01|    0.01|   0.01|      0.0|            2559|\n",
      "|   WI|   0.82|      0.07|   0.06|    0.01|   0.03|      0.0|            8538|\n",
      "|   MN|   0.81|      0.05|   0.06|    0.01|   0.05|      0.0|            8456|\n",
      "|   MO|    0.8|      0.04|   0.12|     0.0|   0.02|      0.0|           11156|\n",
      "|   OH|    0.8|      0.04|   0.12|     0.0|   0.02|      0.0|           28097|\n",
      "|   IN|    0.8|      0.07|   0.09|     0.0|   0.02|      0.0|           10708|\n",
      "|   NE|   0.79|      0.11|   0.05|     0.0|   0.02|      0.0|            1757|\n",
      "|   UT|   0.79|      0.14|   0.01|    0.01|   0.02|     0.01|            4724|\n",
      "|   PA|   0.77|      0.07|   0.11|     0.0|   0.03|      0.0|           24160|\n",
      "|   OR|   0.76|      0.13|   0.02|    0.01|   0.04|      0.0|            9583|\n",
      "+-----+-------+----------+-------+--------+-------+---------+----------------+\n",
      "only showing top 20 rows"
     ]
    }
   ],
   "source": [
    "populatonTotals.orderBy(\"White %\", ascending=False).show()"
   ]
  },
  {
   "cell_type": "code",
   "execution_count": 103,
   "metadata": {},
   "outputs": [
    {
     "name": "stdout",
     "output_type": "stream",
     "text": [
      "+-----+-------+----------+-------+--------+-------+---------+----------------+\n",
      "|STATE|White %|Hispanic %|Black %|Native %|Asian %|Pacific %|Complaints Total|\n",
      "+-----+-------+----------+-------+--------+-------+---------+----------------+\n",
      "|   PR|   0.01|      0.99|    0.0|     0.0|    0.0|      0.0|            4652|\n",
      "|   NM|   0.39|      0.46|   0.02|     0.1|   0.01|      0.0|            2951|\n",
      "|   CA|   0.38|      0.39|   0.06|     0.0|   0.14|      0.0|          120248|\n",
      "|   TX|   0.43|      0.39|   0.12|     0.0|   0.04|      0.0|           79343|\n",
      "|   AZ|   0.56|      0.31|   0.04|    0.04|   0.03|      0.0|           16735|\n",
      "|   NV|    0.5|      0.28|   0.08|    0.01|   0.08|     0.01|            9751|\n",
      "|   FL|   0.55|      0.25|   0.15|     0.0|   0.03|      0.0|           77721|\n",
      "|   CO|   0.69|      0.21|   0.04|    0.01|   0.03|      0.0|           17582|\n",
      "|   NJ|   0.56|       0.2|   0.13|     0.0|   0.09|      0.0|           31243|\n",
      "|   NY|   0.56|      0.19|   0.14|     0.0|   0.08|      0.0|           55542|\n",
      "|   IL|   0.62|      0.17|   0.14|     0.0|   0.05|      0.0|           35045|\n",
      "|   CT|   0.68|      0.15|    0.1|     0.0|   0.04|      0.0|            7492|\n",
      "|   RI|   0.73|      0.15|   0.05|     0.0|   0.03|      0.0|            2120|\n",
      "|   UT|   0.79|      0.14|   0.01|    0.01|   0.02|     0.01|            4724|\n",
      "|   OR|   0.76|      0.13|   0.02|    0.01|   0.04|      0.0|            9583|\n",
      "|   ID|   0.82|      0.12|   0.01|    0.01|   0.01|      0.0|            2559|\n",
      "|   KS|   0.76|      0.12|   0.06|    0.01|   0.03|      0.0|            3131|\n",
      "|   WA|    0.7|      0.12|   0.04|    0.01|   0.08|     0.01|           15695|\n",
      "|   NE|   0.79|      0.11|   0.05|     0.0|   0.02|      0.0|            1757|\n",
      "|   MA|   0.73|      0.11|   0.07|     0.0|   0.06|      0.0|           12712|\n",
      "+-----+-------+----------+-------+--------+-------+---------+----------------+\n",
      "only showing top 20 rows"
     ]
    }
   ],
   "source": [
    "populatonTotals.orderBy(\"Hispanic %\", ascending=False).show()"
   ]
  },
  {
   "cell_type": "code",
   "execution_count": 104,
   "metadata": {},
   "outputs": [
    {
     "name": "stdout",
     "output_type": "stream",
     "text": [
      "+-----+-------+----------+-------+--------+-------+---------+----------------+\n",
      "|STATE|White %|Hispanic %|Black %|Native %|Asian %|Pacific %|Complaints Total|\n",
      "+-----+-------+----------+-------+--------+-------+---------+----------------+\n",
      "|   DC|   0.36|      0.11|   0.47|     0.0|   0.04|      0.0|            3933|\n",
      "|   MS|   0.57|      0.03|   0.37|     0.0|   0.01|      0.0|            4878|\n",
      "|   LA|   0.59|      0.05|   0.32|    0.01|   0.02|      0.0|            9082|\n",
      "|   GA|   0.54|      0.09|   0.31|     0.0|   0.04|      0.0|           67321|\n",
      "|   MD|   0.52|       0.1|   0.29|     0.0|   0.06|      0.0|           26695|\n",
      "|   SC|   0.64|      0.05|   0.27|     0.0|   0.01|      0.0|           13821|\n",
      "|   AL|   0.66|      0.04|   0.26|     0.0|   0.01|      0.0|            6885|\n",
      "|   DE|   0.63|      0.09|   0.21|     0.0|   0.04|      0.0|            3401|\n",
      "|   NC|   0.64|      0.09|   0.21|    0.01|   0.03|      0.0|           33982|\n",
      "|   VA|   0.63|      0.09|   0.19|     0.0|   0.06|      0.0|           32700|\n",
      "|   TN|   0.74|      0.05|   0.17|     0.0|   0.02|      0.0|           15983|\n",
      "|   AR|   0.73|      0.07|   0.15|    0.01|   0.01|      0.0|            3789|\n",
      "|   FL|   0.55|      0.25|   0.15|     0.0|   0.03|      0.0|           77721|\n",
      "|   IL|   0.62|      0.17|   0.14|     0.0|   0.05|      0.0|           35045|\n",
      "|   MI|   0.75|      0.05|   0.14|     0.0|   0.03|      0.0|           19435|\n",
      "|   NY|   0.56|      0.19|   0.14|     0.0|   0.08|      0.0|           55542|\n",
      "|   NJ|   0.56|       0.2|   0.13|     0.0|   0.09|      0.0|           31243|\n",
      "|   MO|    0.8|      0.04|   0.12|     0.0|   0.02|      0.0|           11156|\n",
      "|   OH|    0.8|      0.04|   0.12|     0.0|   0.02|      0.0|           28097|\n",
      "|   TX|   0.43|      0.39|   0.12|     0.0|   0.04|      0.0|           79343|\n",
      "+-----+-------+----------+-------+--------+-------+---------+----------------+\n",
      "only showing top 20 rows"
     ]
    }
   ],
   "source": [
    "populatonTotals.orderBy(\"Black %\", ascending=False).show()"
   ]
  },
  {
   "cell_type": "code",
   "execution_count": 105,
   "metadata": {},
   "outputs": [
    {
     "name": "stdout",
     "output_type": "stream",
     "text": [
      "+-----+-------+----------+-------+--------+-------+---------+----------------+\n",
      "|STATE|White %|Hispanic %|Black %|Native %|Asian %|Pacific %|Complaints Total|\n",
      "+-----+-------+----------+-------+--------+-------+---------+----------------+\n",
      "|   AK|   0.63|      0.07|   0.03|    0.12|   0.06|     0.01|             741|\n",
      "|   NM|   0.39|      0.46|   0.02|     0.1|   0.01|      0.0|            2951|\n",
      "|   OK|   0.66|       0.1|   0.07|    0.07|   0.02|      0.0|            5318|\n",
      "|   MT|   0.86|      0.04|    0.0|    0.06|   0.01|      0.0|            1052|\n",
      "|   SD|   0.85|      0.04|   0.02|    0.05|   0.02|      0.0|             892|\n",
      "|   ND|   0.86|      0.03|   0.02|    0.05|   0.01|      0.0|             548|\n",
      "|   AZ|   0.56|      0.31|   0.04|    0.04|   0.03|      0.0|           16735|\n",
      "|   WY|   0.84|       0.1|   0.01|    0.02|   0.01|      0.0|             460|\n",
      "|   CO|   0.69|      0.21|   0.04|    0.01|   0.03|      0.0|           17582|\n",
      "|   WA|    0.7|      0.12|   0.04|    0.01|   0.08|     0.01|           15695|\n",
      "|   AR|   0.73|      0.07|   0.15|    0.01|   0.01|      0.0|            3789|\n",
      "|   NC|   0.64|      0.09|   0.21|    0.01|   0.03|      0.0|           33982|\n",
      "|   MN|   0.81|      0.05|   0.06|    0.01|   0.05|      0.0|            8456|\n",
      "|   NV|    0.5|      0.28|   0.08|    0.01|   0.08|     0.01|            9751|\n",
      "|   LA|   0.59|      0.05|   0.32|    0.01|   0.02|      0.0|            9082|\n",
      "|   ME|   0.94|      0.02|   0.01|    0.01|   0.01|      0.0|            1037|\n",
      "|   KS|   0.76|      0.12|   0.06|    0.01|   0.03|      0.0|            3131|\n",
      "|   WI|   0.82|      0.07|   0.06|    0.01|   0.03|      0.0|            8538|\n",
      "|   ID|   0.82|      0.12|   0.01|    0.01|   0.01|      0.0|            2559|\n",
      "|   OR|   0.76|      0.13|   0.02|    0.01|   0.04|      0.0|            9583|\n",
      "+-----+-------+----------+-------+--------+-------+---------+----------------+\n",
      "only showing top 20 rows"
     ]
    }
   ],
   "source": [
    "populatonTotals.orderBy(\"Native %\", ascending=False).show()"
   ]
  },
  {
   "cell_type": "code",
   "execution_count": 106,
   "metadata": {},
   "outputs": [
    {
     "name": "stdout",
     "output_type": "stream",
     "text": [
      "+-----+-------+----------+-------+--------+-------+---------+----------------+\n",
      "|STATE|White %|Hispanic %|Black %|Native %|Asian %|Pacific %|Complaints Total|\n",
      "+-----+-------+----------+-------+--------+-------+---------+----------------+\n",
      "|   HI|   0.22|       0.1|   0.02|     0.0|   0.37|     0.09|            2244|\n",
      "|   CA|   0.38|      0.39|   0.06|     0.0|   0.14|      0.0|          120248|\n",
      "|   NJ|   0.56|       0.2|   0.13|     0.0|   0.09|      0.0|           31243|\n",
      "|   NV|    0.5|      0.28|   0.08|    0.01|   0.08|     0.01|            9751|\n",
      "|   NY|   0.56|      0.19|   0.14|     0.0|   0.08|      0.0|           55542|\n",
      "|   WA|    0.7|      0.12|   0.04|    0.01|   0.08|     0.01|           15695|\n",
      "|   AK|   0.63|      0.07|   0.03|    0.12|   0.06|     0.01|             741|\n",
      "|   VA|   0.63|      0.09|   0.19|     0.0|   0.06|      0.0|           32700|\n",
      "|   MA|   0.73|      0.11|   0.07|     0.0|   0.06|      0.0|           12712|\n",
      "|   MD|   0.52|       0.1|   0.29|     0.0|   0.06|      0.0|           26695|\n",
      "|   IL|   0.62|      0.17|   0.14|     0.0|   0.05|      0.0|           35045|\n",
      "|   MN|   0.81|      0.05|   0.06|    0.01|   0.05|      0.0|            8456|\n",
      "|   TX|   0.43|      0.39|   0.12|     0.0|   0.04|      0.0|           79343|\n",
      "|   GA|   0.54|      0.09|   0.31|     0.0|   0.04|      0.0|           67321|\n",
      "|   DC|   0.36|      0.11|   0.47|     0.0|   0.04|      0.0|            3933|\n",
      "|   OR|   0.76|      0.13|   0.02|    0.01|   0.04|      0.0|            9583|\n",
      "|   CT|   0.68|      0.15|    0.1|     0.0|   0.04|      0.0|            7492|\n",
      "|   DE|   0.63|      0.09|   0.21|     0.0|   0.04|      0.0|            3401|\n",
      "|   NC|   0.64|      0.09|   0.21|    0.01|   0.03|      0.0|           33982|\n",
      "|   PA|   0.77|      0.07|   0.11|     0.0|   0.03|      0.0|           24160|\n",
      "+-----+-------+----------+-------+--------+-------+---------+----------------+\n",
      "only showing top 20 rows"
     ]
    }
   ],
   "source": [
    "populatonTotals.orderBy(\"Asian %\", ascending=False).show()"
   ]
  },
  {
   "cell_type": "code",
   "execution_count": 107,
   "metadata": {},
   "outputs": [
    {
     "name": "stdout",
     "output_type": "stream",
     "text": [
      "+-----+-------+----------+-------+--------+-------+---------+----------------+\n",
      "|STATE|White %|Hispanic %|Black %|Native %|Asian %|Pacific %|Complaints Total|\n",
      "+-----+-------+----------+-------+--------+-------+---------+----------------+\n",
      "|   HI|   0.22|       0.1|   0.02|     0.0|   0.37|     0.09|            2244|\n",
      "|   UT|   0.79|      0.14|   0.01|    0.01|   0.02|     0.01|            4724|\n",
      "|   NV|    0.5|      0.28|   0.08|    0.01|   0.08|     0.01|            9751|\n",
      "|   WA|    0.7|      0.12|   0.04|    0.01|   0.08|     0.01|           15695|\n",
      "|   AK|   0.63|      0.07|   0.03|    0.12|   0.06|     0.01|             741|\n",
      "|   NH|   0.91|      0.03|   0.01|     0.0|   0.02|      0.0|            2006|\n",
      "|   ID|   0.82|      0.12|   0.01|    0.01|   0.01|      0.0|            2559|\n",
      "|   SC|   0.64|      0.05|   0.27|     0.0|   0.01|      0.0|           13821|\n",
      "|   NE|   0.79|      0.11|   0.05|     0.0|   0.02|      0.0|            1757|\n",
      "|   OR|   0.76|      0.13|   0.02|    0.01|   0.04|      0.0|            9583|\n",
      "|   DC|   0.36|      0.11|   0.47|     0.0|   0.04|      0.0|            3933|\n",
      "|   MN|   0.81|      0.05|   0.06|    0.01|   0.05|      0.0|            8456|\n",
      "|   VA|   0.63|      0.09|   0.19|     0.0|   0.06|      0.0|           32700|\n",
      "|   MI|   0.75|      0.05|   0.14|     0.0|   0.03|      0.0|           19435|\n",
      "|   RI|   0.73|      0.15|   0.05|     0.0|   0.03|      0.0|            2120|\n",
      "|   KY|   0.85|      0.04|   0.08|     0.0|   0.01|      0.0|            7244|\n",
      "|   WY|   0.84|       0.1|   0.01|    0.02|   0.01|      0.0|             460|\n",
      "|   WI|   0.82|      0.07|   0.06|    0.01|   0.03|      0.0|            8538|\n",
      "|   CT|   0.68|      0.15|    0.1|     0.0|   0.04|      0.0|            7492|\n",
      "|   VT|   0.93|      0.02|   0.01|     0.0|   0.02|      0.0|             442|\n",
      "+-----+-------+----------+-------+--------+-------+---------+----------------+\n",
      "only showing top 20 rows"
     ]
    }
   ],
   "source": [
    "populatonTotals.orderBy(\"Pacific %\", ascending=False).show()"
   ]
  },
  {
   "cell_type": "code",
   "execution_count": 108,
   "metadata": {},
   "outputs": [],
   "source": [
    "######################################################################################################\n",
    "\n",
    "#Analysis..... I don't see a lot of correlation between concentration of a certain minority and complaint totals.\n",
    "\n",
    "\n",
    "#Granted this is at a very high level. \n",
    "\n",
    "########################################################################################################"
   ]
  },
  {
   "cell_type": "code",
   "execution_count": 109,
   "metadata": {},
   "outputs": [],
   "source": [
    "##########################################################################################################\n",
    "\n",
    "#End.\n",
    "##########################################################################################################"
   ]
  },
  {
   "cell_type": "code",
   "execution_count": null,
   "metadata": {},
   "outputs": [],
   "source": []
  },
  {
   "cell_type": "code",
   "execution_count": null,
   "metadata": {},
   "outputs": [],
   "source": []
  }
 ],
 "metadata": {
  "kernelspec": {
   "display_name": "PySpark3",
   "language": "",
   "name": "pyspark3kernel"
  },
  "language_info": {
   "codemirror_mode": {
    "name": "python",
    "version": 3
   },
   "mimetype": "text/x-python",
   "name": "pyspark3",
   "pygments_lexer": "python3"
  }
 },
 "nbformat": 4,
 "nbformat_minor": 2
}
